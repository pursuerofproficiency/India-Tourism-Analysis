{
 "cells": [
  {
   "cell_type": "code",
   "execution_count": 1,
   "id": "c983ae10",
   "metadata": {},
   "outputs": [],
   "source": [
    "import pandas as pandas\n",
    "\n"
   ]
  },
  {
   "cell_type": "code",
   "execution_count": 2,
   "id": "798c89e5",
   "metadata": {},
   "outputs": [],
   "source": [
    "df=pandas.read_csv('India-Tourism-Statistics-2022-Table-2.1.4.csv')\n"
   ]
  },
  {
   "cell_type": "code",
   "execution_count": 3,
   "id": "68092558",
   "metadata": {},
   "outputs": [
    {
     "data": {
      "text/plain": [
       "(83, 12)"
      ]
     },
     "execution_count": 3,
     "metadata": {},
     "output_type": "execute_result"
    }
   ],
   "source": [
    "df.shape"
   ]
  },
  {
   "cell_type": "code",
   "execution_count": 4,
   "id": "1a20fb7d",
   "metadata": {},
   "outputs": [
    {
     "name": "stdout",
     "output_type": "stream",
     "text": [
      "Index(['Number of Arrivals-2017', 'Number of Arrivals-2018',\n",
      "       'Number of Arrivals-2020', 'Percentage Share  - 2018/17',\n",
      "       'Percentage Share  - 2019/18', 'Percentage Share  - 2020/19',\n",
      "       'Percentage Change - 2021/20', 'Percentage Change - 2021'],\n",
      "      dtype='object')\n"
     ]
    }
   ],
   "source": [
    "missing_columns= df.columns[df.isnull().any()]\n",
    "print (missing_columns)"
   ]
  },
  {
   "cell_type": "code",
   "execution_count": 5,
   "id": "250d0610",
   "metadata": {},
   "outputs": [
    {
     "data": {
      "text/plain": [
       "np.int64(1)"
      ]
     },
     "execution_count": 5,
     "metadata": {},
     "output_type": "execute_result"
    }
   ],
   "source": [
    "df['Number of Arrivals-2017'].isnull().sum()"
   ]
  },
  {
   "cell_type": "code",
   "execution_count": 6,
   "id": "d4646d00",
   "metadata": {},
   "outputs": [
    {
     "data": {
      "text/plain": [
       "np.int64(1)"
      ]
     },
     "execution_count": 6,
     "metadata": {},
     "output_type": "execute_result"
    }
   ],
   "source": [
    "df['Number of Arrivals-2020'].isnull().sum()"
   ]
  },
  {
   "cell_type": "code",
   "execution_count": 7,
   "id": "191b79ed",
   "metadata": {},
   "outputs": [
    {
     "data": {
      "text/plain": [
       "np.int64(1)"
      ]
     },
     "execution_count": 7,
     "metadata": {},
     "output_type": "execute_result"
    }
   ],
   "source": [
    "df['Percentage Share  - 2018/17'].isnull().sum()"
   ]
  },
  {
   "cell_type": "code",
   "execution_count": 8,
   "id": "95987a85",
   "metadata": {},
   "outputs": [
    {
     "data": {
      "text/plain": [
       "np.int64(1)"
      ]
     },
     "execution_count": 8,
     "metadata": {},
     "output_type": "execute_result"
    }
   ],
   "source": [
    "df['Percentage Share  - 2019/18'].isnull().sum()"
   ]
  },
  {
   "cell_type": "code",
   "execution_count": 9,
   "id": "df51ee45",
   "metadata": {},
   "outputs": [
    {
     "data": {
      "text/plain": [
       "np.int64(1)"
      ]
     },
     "execution_count": 9,
     "metadata": {},
     "output_type": "execute_result"
    }
   ],
   "source": [
    "df['Percentage Share  - 2020/19'].isnull().sum()"
   ]
  },
  {
   "cell_type": "code",
   "execution_count": 10,
   "id": "4546bd17",
   "metadata": {},
   "outputs": [
    {
     "data": {
      "text/plain": [
       "np.int64(1)"
      ]
     },
     "execution_count": 10,
     "metadata": {},
     "output_type": "execute_result"
    }
   ],
   "source": [
    "df['Number of Arrivals-2018'].isnull().sum()"
   ]
  },
  {
   "cell_type": "code",
   "execution_count": 11,
   "id": "b2f4502d",
   "metadata": {},
   "outputs": [
    {
     "data": {
      "text/plain": [
       "np.int64(1)"
      ]
     },
     "execution_count": 11,
     "metadata": {},
     "output_type": "execute_result"
    }
   ],
   "source": [
    "df['Percentage Change - 2021/20'].isnull().sum()"
   ]
  },
  {
   "cell_type": "code",
   "execution_count": 12,
   "id": "ff299b2f",
   "metadata": {},
   "outputs": [
    {
     "data": {
      "text/plain": [
       "np.int64(1)"
      ]
     },
     "execution_count": 12,
     "metadata": {},
     "output_type": "execute_result"
    }
   ],
   "source": [
    "df['Percentage Change - 2021/20'].isnull().sum()"
   ]
  },
  {
   "cell_type": "markdown",
   "id": "71b10e1b",
   "metadata": {},
   "source": [
    "df.drop_duplicates()\n"
   ]
  },
  {
   "cell_type": "code",
   "execution_count": 13,
   "id": "85c09fe6",
   "metadata": {},
   "outputs": [
    {
     "name": "stdout",
     "output_type": "stream",
     "text": [
      "['Number of Arrivals-2017', 'Number of Arrivals-2018', 'Number of Arrivals-2020', 'Percentage Share  - 2018/17', 'Percentage Share  - 2019/18', 'Percentage Share  - 2020/19', 'Percentage Change - 2021/20', 'Percentage Change - 2021']\n"
     ]
    }
   ],
   "source": [
    "missing_columns= df.columns[df.isnull().any()].tolist()\n",
    "print(missing_columns)"
   ]
  },
  {
   "cell_type": "code",
   "execution_count": 14,
   "id": "3c1cb5d4",
   "metadata": {},
   "outputs": [
    {
     "name": "stdout",
     "output_type": "stream",
     "text": [
      "Original DataFrame shape: (83, 12)\n",
      "Cleaned DataFrame shape after dropping NA values: (82, 12)\n",
      "\n",
      "Missing Values per Column in Cleaned DataFrame:\n",
      "Region                         0\n",
      "Country of Nationality         0\n",
      "Number of Arrivals-2017        0\n",
      "Number of Arrivals-2018        0\n",
      "Number of Arrivals-2019        0\n",
      "Number of Arrivals-2020        0\n",
      "Number of Arrivals-2021        0\n",
      "Percentage Share  - 2018/17    0\n",
      "Percentage Share  - 2019/18    0\n",
      "Percentage Share  - 2020/19    0\n",
      "Percentage Change - 2021/20    0\n",
      "Percentage Change - 2021       0\n",
      "dtype: int64\n"
     ]
    }
   ],
   "source": [
    "df_cleaned = df.dropna()\n",
    "\n",
    "print(f\"Original DataFrame shape: {df.shape}\")\n",
    "print(f\"Cleaned DataFrame shape after dropping NA values: {df_cleaned.shape}\")\n",
    "print(\"\\nMissing Values per Column in Cleaned DataFrame:\")\n",
    "print(df_cleaned.isnull().sum())"
   ]
  },
  {
   "cell_type": "code",
   "execution_count": 15,
   "id": "7c8c0aac",
   "metadata": {},
   "outputs": [
    {
     "name": "stdout",
     "output_type": "stream",
     "text": [
      "\n",
      "First 5 rows of the Cleaned DataFrame (after type conversion):\n",
      "\n",
      "Cleaned DataFrame Info (after type conversion):\n",
      "<class 'pandas.core.frame.DataFrame'>\n",
      "Index: 82 entries, 0 to 82\n",
      "Data columns (total 12 columns):\n",
      " #   Column                       Non-Null Count  Dtype  \n",
      "---  ------                       --------------  -----  \n",
      " 0   Region                       82 non-null     object \n",
      " 1   Country of Nationality       82 non-null     object \n",
      " 2   Number of Arrivals-2017      82 non-null     float64\n",
      " 3   Number of Arrivals-2018      82 non-null     float64\n",
      " 4   Number of Arrivals-2019      82 non-null     int64  \n",
      " 5   Number of Arrivals-2020      82 non-null     float64\n",
      " 6   Number of Arrivals-2021      82 non-null     int64  \n",
      " 7   Percentage Share  - 2018/17  82 non-null     float64\n",
      " 8   Percentage Share  - 2019/18  82 non-null     float64\n",
      " 9   Percentage Share  - 2020/19  82 non-null     float64\n",
      " 10  Percentage Change - 2021/20  82 non-null     float64\n",
      " 11  Percentage Change - 2021     82 non-null     float64\n",
      "dtypes: float64(8), int64(2), object(2)\n",
      "memory usage: 8.3+ KB\n"
     ]
    }
   ],
   "source": [
    "columns_to_convert_to_int = [\n",
    "    'Number of Arrivals-2017',\n",
    "    'Number of Arrivals-2018',\n",
    "    'Number of Arrivals-2020'\n",
    "]\n",
    "\n",
    "for col in columns_to_convert_to_int:\n",
    "    # Use .loc for safe assignment and type conversion\n",
    "    df_cleaned.loc[:, col] = df_cleaned[col].astype(int)\n",
    "\n",
    "print(\"\\nFirst 5 rows of the Cleaned DataFrame (after type conversion):\")\n",
    "df_cleaned.head()\n",
    "\n",
    "print(\"\\nCleaned DataFrame Info (after type conversion):\")\n",
    "df_cleaned.info()"
   ]
  },
  {
   "cell_type": "code",
   "execution_count": 16,
   "id": "f559ea62",
   "metadata": {},
   "outputs": [
    {
     "name": "stdout",
     "output_type": "stream",
     "text": [
      "Total Number of Arrivals per Region (2017-2021, excluding 'Total' and 'Grand Total'):\n"
     ]
    },
    {
     "data": {
      "text/html": [
       "<div>\n",
       "<style scoped>\n",
       "    .dataframe tbody tr th:only-of-type {\n",
       "        vertical-align: middle;\n",
       "    }\n",
       "\n",
       "    .dataframe tbody tr th {\n",
       "        vertical-align: top;\n",
       "    }\n",
       "\n",
       "    .dataframe thead th {\n",
       "        text-align: right;\n",
       "    }\n",
       "</style>\n",
       "<table border=\"1\" class=\"dataframe\">\n",
       "  <thead>\n",
       "    <tr style=\"text-align: right;\">\n",
       "      <th></th>\n",
       "      <th>Number of Arrivals-2017</th>\n",
       "      <th>Number of Arrivals-2018</th>\n",
       "      <th>Number of Arrivals-2019</th>\n",
       "      <th>Number of Arrivals-2020</th>\n",
       "      <th>Number of Arrivals-2021</th>\n",
       "    </tr>\n",
       "    <tr>\n",
       "      <th>Region</th>\n",
       "      <th></th>\n",
       "      <th></th>\n",
       "      <th></th>\n",
       "      <th></th>\n",
       "      <th></th>\n",
       "    </tr>\n",
       "  </thead>\n",
       "  <tbody>\n",
       "    <tr>\n",
       "      <th>Africa</th>\n",
       "      <td>318023.0</td>\n",
       "      <td>351198.0</td>\n",
       "      <td>362308</td>\n",
       "      <td>90296.0</td>\n",
       "      <td>68914</td>\n",
       "    </tr>\n",
       "    <tr>\n",
       "      <th>Australasia</th>\n",
       "      <td>386059.0</td>\n",
       "      <td>412628.0</td>\n",
       "      <td>438939</td>\n",
       "      <td>105047.0</td>\n",
       "      <td>38865</td>\n",
       "    </tr>\n",
       "    <tr>\n",
       "      <th>Central and South America</th>\n",
       "      <td>92067.0</td>\n",
       "      <td>101085.0</td>\n",
       "      <td>98926</td>\n",
       "      <td>26968.0</td>\n",
       "      <td>6798</td>\n",
       "    </tr>\n",
       "    <tr>\n",
       "      <th>East Asia</th>\n",
       "      <td>663295.0</td>\n",
       "      <td>724568.0</td>\n",
       "      <td>782225</td>\n",
       "      <td>130383.0</td>\n",
       "      <td>33762</td>\n",
       "    </tr>\n",
       "    <tr>\n",
       "      <th>Eastern Europe</th>\n",
       "      <td>472872.0</td>\n",
       "      <td>466049.0</td>\n",
       "      <td>456481</td>\n",
       "      <td>168145.0</td>\n",
       "      <td>43114</td>\n",
       "    </tr>\n",
       "    <tr>\n",
       "      <th>North America</th>\n",
       "      <td>1712358.0</td>\n",
       "      <td>1807718.0</td>\n",
       "      <td>1863891</td>\n",
       "      <td>516960.0</td>\n",
       "      <td>510297</td>\n",
       "    </tr>\n",
       "    <tr>\n",
       "      <th>Not Classified elsewhere</th>\n",
       "      <td>23456.0</td>\n",
       "      <td>10037.0</td>\n",
       "      <td>10841</td>\n",
       "      <td>3018.0</td>\n",
       "      <td>1142</td>\n",
       "    </tr>\n",
       "    <tr>\n",
       "      <th>South Asia</th>\n",
       "      <td>2951665.0</td>\n",
       "      <td>3104422.0</td>\n",
       "      <td>3375819</td>\n",
       "      <td>750061.0</td>\n",
       "      <td>398722</td>\n",
       "    </tr>\n",
       "    <tr>\n",
       "      <th>South East Asia</th>\n",
       "      <td>824575.0</td>\n",
       "      <td>887088.0</td>\n",
       "      <td>930540</td>\n",
       "      <td>231622.0</td>\n",
       "      <td>38474</td>\n",
       "    </tr>\n",
       "    <tr>\n",
       "      <th>West Asia</th>\n",
       "      <td>457760.0</td>\n",
       "      <td>449548.0</td>\n",
       "      <td>431943</td>\n",
       "      <td>97651.0</td>\n",
       "      <td>52174</td>\n",
       "    </tr>\n",
       "    <tr>\n",
       "      <th>Western Europe</th>\n",
       "      <td>2133683.0</td>\n",
       "      <td>2243632.0</td>\n",
       "      <td>2178441</td>\n",
       "      <td>624615.0</td>\n",
       "      <td>334850</td>\n",
       "    </tr>\n",
       "  </tbody>\n",
       "</table>\n",
       "</div>"
      ],
      "text/plain": [
       "                           Number of Arrivals-2017  Number of Arrivals-2018  \\\n",
       "Region                                                                        \n",
       "Africa                                    318023.0                 351198.0   \n",
       "Australasia                               386059.0                 412628.0   \n",
       "Central and South America                  92067.0                 101085.0   \n",
       "East Asia                                 663295.0                 724568.0   \n",
       "Eastern Europe                            472872.0                 466049.0   \n",
       "North America                            1712358.0                1807718.0   \n",
       "Not Classified elsewhere                   23456.0                  10037.0   \n",
       "South Asia                               2951665.0                3104422.0   \n",
       "South East Asia                           824575.0                 887088.0   \n",
       "West Asia                                 457760.0                 449548.0   \n",
       "Western Europe                           2133683.0                2243632.0   \n",
       "\n",
       "                           Number of Arrivals-2019  Number of Arrivals-2020  \\\n",
       "Region                                                                        \n",
       "Africa                                      362308                  90296.0   \n",
       "Australasia                                 438939                 105047.0   \n",
       "Central and South America                    98926                  26968.0   \n",
       "East Asia                                   782225                 130383.0   \n",
       "Eastern Europe                              456481                 168145.0   \n",
       "North America                              1863891                 516960.0   \n",
       "Not Classified elsewhere                     10841                   3018.0   \n",
       "South Asia                                 3375819                 750061.0   \n",
       "South East Asia                             930540                 231622.0   \n",
       "West Asia                                   431943                  97651.0   \n",
       "Western Europe                             2178441                 624615.0   \n",
       "\n",
       "                           Number of Arrivals-2021  \n",
       "Region                                              \n",
       "Africa                                       68914  \n",
       "Australasia                                  38865  \n",
       "Central and South America                     6798  \n",
       "East Asia                                    33762  \n",
       "Eastern Europe                               43114  \n",
       "North America                               510297  \n",
       "Not Classified elsewhere                      1142  \n",
       "South Asia                                  398722  \n",
       "South East Asia                              38474  \n",
       "West Asia                                    52174  \n",
       "Western Europe                              334850  "
      ]
     },
     "execution_count": 16,
     "metadata": {},
     "output_type": "execute_result"
    }
   ],
   "source": [
    "import altair as alt \n",
    "df_filtered_for_analysis = df_cleaned[\n",
    "    (df_cleaned['Country of Nationality'] != 'Total') &\n",
    "    (df_cleaned['Region'] != 'Grand Total')\n",
    "]\n",
    "regional_arrivals = df_filtered_for_analysis.groupby('Region')[[\n",
    "    'Number of Arrivals-2017',\n",
    "    'Number of Arrivals-2018',\n",
    "    'Number of Arrivals-2019',\n",
    "    'Number of Arrivals-2020',\n",
    "    'Number of Arrivals-2021'\n",
    "]].sum()\n",
    "\n",
    "print(\"Total Number of Arrivals per Region (2017-2021, excluding 'Total' and 'Grand Total'):\")\n",
    "regional_arrivals"
   ]
  },
  {
   "cell_type": "code",
   "execution_count": 17,
   "id": "b017bc79",
   "metadata": {},
   "outputs": [
    {
     "name": "stdout",
     "output_type": "stream",
     "text": [
      "Top 10 Countries with Highest Number of Arrivals in 2021:\n"
     ]
    },
    {
     "data": {
      "text/html": [
       "\n",
       "<style>\n",
       "  #altair-viz-282bded8347546a68ec0f158208b6787.vega-embed {\n",
       "    width: 100%;\n",
       "    display: flex;\n",
       "  }\n",
       "\n",
       "  #altair-viz-282bded8347546a68ec0f158208b6787.vega-embed details,\n",
       "  #altair-viz-282bded8347546a68ec0f158208b6787.vega-embed details summary {\n",
       "    position: relative;\n",
       "  }\n",
       "</style>\n",
       "<div id=\"altair-viz-282bded8347546a68ec0f158208b6787\"></div>\n",
       "<script type=\"text/javascript\">\n",
       "  var VEGA_DEBUG = (typeof VEGA_DEBUG == \"undefined\") ? {} : VEGA_DEBUG;\n",
       "  (function(spec, embedOpt){\n",
       "    let outputDiv = document.currentScript.previousElementSibling;\n",
       "    if (outputDiv.id !== \"altair-viz-282bded8347546a68ec0f158208b6787\") {\n",
       "      outputDiv = document.getElementById(\"altair-viz-282bded8347546a68ec0f158208b6787\");\n",
       "    }\n",
       "\n",
       "    const paths = {\n",
       "      \"vega\": \"https://cdn.jsdelivr.net/npm/vega@5?noext\",\n",
       "      \"vega-lib\": \"https://cdn.jsdelivr.net/npm/vega-lib?noext\",\n",
       "      \"vega-lite\": \"https://cdn.jsdelivr.net/npm/vega-lite@5.20.1?noext\",\n",
       "      \"vega-embed\": \"https://cdn.jsdelivr.net/npm/vega-embed@6?noext\",\n",
       "    };\n",
       "\n",
       "    function maybeLoadScript(lib, version) {\n",
       "      var key = `${lib.replace(\"-\", \"\")}_version`;\n",
       "      return (VEGA_DEBUG[key] == version) ?\n",
       "        Promise.resolve(paths[lib]) :\n",
       "        new Promise(function(resolve, reject) {\n",
       "          var s = document.createElement('script');\n",
       "          document.getElementsByTagName(\"head\")[0].appendChild(s);\n",
       "          s.async = true;\n",
       "          s.onload = () => {\n",
       "            VEGA_DEBUG[key] = version;\n",
       "            return resolve(paths[lib]);\n",
       "          };\n",
       "          s.onerror = () => reject(`Error loading script: ${paths[lib]}`);\n",
       "          s.src = paths[lib];\n",
       "        });\n",
       "    }\n",
       "\n",
       "    function showError(err) {\n",
       "      outputDiv.innerHTML = `<div class=\"error\" style=\"color:red;\">${err}</div>`;\n",
       "      throw err;\n",
       "    }\n",
       "\n",
       "    function displayChart(vegaEmbed) {\n",
       "      vegaEmbed(outputDiv, spec, embedOpt)\n",
       "        .catch(err => showError(`Javascript Error: ${err.message}<br>This usually means there's a typo in your chart specification. See the javascript console for the full traceback.`));\n",
       "    }\n",
       "\n",
       "    if(typeof define === \"function\" && define.amd) {\n",
       "      requirejs.config({paths});\n",
       "      let deps = [\"vega-embed\"];\n",
       "      require(deps, displayChart, err => showError(`Error loading script: ${err.message}`));\n",
       "    } else {\n",
       "      maybeLoadScript(\"vega\", \"5\")\n",
       "        .then(() => maybeLoadScript(\"vega-lite\", \"5.20.1\"))\n",
       "        .then(() => maybeLoadScript(\"vega-embed\", \"6\"))\n",
       "        .catch(showError)\n",
       "        .then(() => displayChart(vegaEmbed));\n",
       "    }\n",
       "  })({\"config\": {\"view\": {\"continuousWidth\": 300, \"continuousHeight\": 300}}, \"data\": {\"name\": \"data-9beeecbc06856ba9f9fdaa1af248fedf\"}, \"mark\": {\"type\": \"bar\"}, \"encoding\": {\"tooltip\": [{\"field\": \"Country of Nationality\", \"type\": \"nominal\"}, {\"field\": \"Number of Arrivals-2021\", \"type\": \"quantitative\"}], \"x\": {\"field\": \"Number of Arrivals-2021\", \"title\": \"Number of Arrivals in 2021\", \"type\": \"quantitative\"}, \"y\": {\"field\": \"Country of Nationality\", \"sort\": \"-x\", \"title\": \"Country of Nationality\", \"type\": \"nominal\"}}, \"title\": \"Top 10 Countries by Number of Arrivals in 2021\", \"$schema\": \"https://vega.github.io/schema/vega-lite/v5.20.1.json\", \"datasets\": {\"data-9beeecbc06856ba9f9fdaa1af248fedf\": [{\"Region\": \"Grand Total\", \"Country of Nationality\": \"Grand Total\", \"Number of Arrivals-2017\": 10035803.0, \"Number of Arrivals-2018\": 10557976.0, \"Number of Arrivals-2019\": 10930355, \"Number of Arrivals-2020\": 2744766.0, \"Number of Arrivals-2021\": 1527114, \"Percentage Share  - 2018/17\": 5.2, \"Percentage Share  - 2019/18\": 3.5, \"Percentage Share  - 2020/19\": -74.9, \"Percentage Change - 2021/20\": -44.4, \"Percentage Change - 2021\": 100.0}, {\"Region\": \"North America\", \"Country of Nationality\": \"U. S. A\", \"Number of Arrivals-2017\": 1376919.0, \"Number of Arrivals-2018\": 1456678.0, \"Number of Arrivals-2019\": 1512032, \"Number of Arrivals-2020\": 394092.0, \"Number of Arrivals-2021\": 429860, \"Percentage Share  - 2018/17\": 5.8, \"Percentage Share  - 2019/18\": 3.8, \"Percentage Share  - 2020/19\": -73.9, \"Percentage Change - 2021/20\": 9.1, \"Percentage Change - 2021\": 28.15}, {\"Region\": \"South Asia\", \"Country of Nationality\": \"Bangladesh\", \"Number of Arrivals-2017\": 2156557.0, \"Number of Arrivals-2018\": 2256675.0, \"Number of Arrivals-2019\": 2577727, \"Number of Arrivals-2020\": 549273.0, \"Number of Arrivals-2021\": 240554, \"Percentage Share  - 2018/17\": 4.6, \"Percentage Share  - 2019/18\": 14.2, \"Percentage Share  - 2020/19\": -78.7, \"Percentage Change - 2021/20\": -56.2, \"Percentage Change - 2021\": 15.75}, {\"Region\": \"Western Europe\", \"Country of Nationality\": \"U.K.\", \"Number of Arrivals-2017\": 986296.0, \"Number of Arrivals-2018\": 1029757.0, \"Number of Arrivals-2019\": 1000292, \"Number of Arrivals-2020\": 291874.0, \"Number of Arrivals-2021\": 164143, \"Percentage Share  - 2018/17\": 4.4, \"Percentage Share  - 2019/18\": -2.9, \"Percentage Share  - 2020/19\": -70.8, \"Percentage Change - 2021/20\": -43.8, \"Percentage Change - 2021\": 10.75}, {\"Region\": \"North America\", \"Country of Nationality\": \"Canada\", \"Number of Arrivals-2017\": 335439.0, \"Number of Arrivals-2018\": 351040.0, \"Number of Arrivals-2019\": 351859, \"Number of Arrivals-2020\": 122868.0, \"Number of Arrivals-2021\": 80437, \"Percentage Share  - 2018/17\": 4.7, \"Percentage Share  - 2019/18\": 0.2, \"Percentage Share  - 2020/19\": -65.1, \"Percentage Change - 2021/20\": -34.5, \"Percentage Change - 2021\": 5.27}, {\"Region\": \"South Asia\", \"Country of Nationality\": \"Nepal\", \"Number of Arrivals-2017\": 164018.0, \"Number of Arrivals-2018\": 174096.0, \"Number of Arrivals-2019\": 164040, \"Number of Arrivals-2020\": 40822.0, \"Number of Arrivals-2021\": 52544, \"Percentage Share  - 2018/17\": 6.1, \"Percentage Share  - 2019/18\": -5.8, \"Percentage Share  - 2020/19\": -75.1, \"Percentage Change - 2021/20\": 28.7, \"Percentage Change - 2021\": 3.44}, {\"Region\": \"South Asia\", \"Country of Nationality\": \"Afghanistan\", \"Number of Arrivals-2017\": 149176.0, \"Number of Arrivals-2018\": 153905.0, \"Number of Arrivals-2019\": 124120, \"Number of Arrivals-2020\": 47561.0, \"Number of Arrivals-2021\": 36451, \"Percentage Share  - 2018/17\": 3.2, \"Percentage Share  - 2019/18\": -19.4, \"Percentage Share  - 2020/19\": -61.7, \"Percentage Change - 2021/20\": -23.4, \"Percentage Change - 2021\": 2.39}, {\"Region\": \"Australasia\", \"Country of Nationality\": \"Australia\", \"Number of Arrivals-2017\": 324243.0, \"Number of Arrivals-2018\": 346486.0, \"Number of Arrivals-2019\": 367241, \"Number of Arrivals-2020\": 86758.0, \"Number of Arrivals-2021\": 33864, \"Percentage Share  - 2018/17\": 6.9, \"Percentage Share  - 2019/18\": 6.0, \"Percentage Share  - 2020/19\": -76.4, \"Percentage Change - 2021/20\": -61.0, \"Percentage Change - 2021\": 2.22}, {\"Region\": \"Western Europe\", \"Country of Nationality\": \"Germany\", \"Number of Arrivals-2017\": 269380.0, \"Number of Arrivals-2018\": 274087.0, \"Number of Arrivals-2019\": 264973, \"Number of Arrivals-2020\": 72558.0, \"Number of Arrivals-2021\": 33772, \"Percentage Share  - 2018/17\": 1.7, \"Percentage Share  - 2019/18\": -3.3, \"Percentage Share  - 2020/19\": -72.6, \"Percentage Change - 2021/20\": -53.5, \"Percentage Change - 2021\": 2.21}, {\"Region\": \"Western Europe\", \"Country of Nationality\": \"Portugal\", \"Number of Arrivals-2017\": 66378.0, \"Number of Arrivals-2018\": 74492.0, \"Number of Arrivals-2019\": 74743, \"Number of Arrivals-2020\": 31005.0, \"Number of Arrivals-2021\": 32064, \"Percentage Share  - 2018/17\": 12.2, \"Percentage Share  - 2019/18\": 0.3, \"Percentage Share  - 2020/19\": -58.5, \"Percentage Change - 2021/20\": 3.4, \"Percentage Change - 2021\": 2.18}]}}, {\"mode\": \"vega-lite\"});\n",
       "</script>"
      ],
      "text/plain": [
       "alt.Chart(...)"
      ]
     },
     "execution_count": 17,
     "metadata": {},
     "output_type": "execute_result"
    }
   ],
   "source": [
    "countries_only_df = df_cleaned[df_cleaned['Country of Nationality'] != 'Total']\n",
    "top_10_countries_2021 = countries_only_df.sort_values(\n",
    "    by='Number of Arrivals-2021', ascending=False\n",
    ").head(10)\n",
    "\n",
    "print(\"Top 10 Countries with Highest Number of Arrivals in 2021:\")\n",
    "top_10_countries_2021[['Country of Nationality', 'Number of Arrivals-2021']]\n",
    "chart = alt.Chart(top_10_countries_2021).mark_bar().encode(\n",
    "    x=alt.X('Number of Arrivals-2021', title='Number of Arrivals in 2021'),\n",
    "    y=alt.Y('Country of Nationality', sort='-x', title='Country of Nationality'),\n",
    "    tooltip=['Country of Nationality', 'Number of Arrivals-2021']\n",
    ").properties(\n",
    "    title='Top 10 Countries by Number of Arrivals in 2021'\n",
    ")\n",
    "chart\n"
   ]
  },
  {
   "cell_type": "code",
   "execution_count": 18,
   "id": "4cdba47d",
   "metadata": {},
   "outputs": [
    {
     "name": "stdout",
     "output_type": "stream",
     "text": [
      "Overall Tourist Arrivals Trend (2017-2021):\n",
      "| Year   | Total Arrivals   |\n",
      "|:-------|:-----------------|\n",
      "| 2017   | 1.00358e+07      |\n",
      "| 2018   | 1.0558e+07       |\n",
      "| 2019   | 1.09304e+07      |\n",
      "| 2020   | 2.74477e+06      |\n",
      "| 2021   | 1.52711e+06      |\n"
     ]
    },
    {
     "data": {
      "text/html": [
       "\n",
       "<style>\n",
       "  #altair-viz-6c3c456cf7554823b53b83e9aa92b3ee.vega-embed {\n",
       "    width: 100%;\n",
       "    display: flex;\n",
       "  }\n",
       "\n",
       "  #altair-viz-6c3c456cf7554823b53b83e9aa92b3ee.vega-embed details,\n",
       "  #altair-viz-6c3c456cf7554823b53b83e9aa92b3ee.vega-embed details summary {\n",
       "    position: relative;\n",
       "  }\n",
       "</style>\n",
       "<div id=\"altair-viz-6c3c456cf7554823b53b83e9aa92b3ee\"></div>\n",
       "<script type=\"text/javascript\">\n",
       "  var VEGA_DEBUG = (typeof VEGA_DEBUG == \"undefined\") ? {} : VEGA_DEBUG;\n",
       "  (function(spec, embedOpt){\n",
       "    let outputDiv = document.currentScript.previousElementSibling;\n",
       "    if (outputDiv.id !== \"altair-viz-6c3c456cf7554823b53b83e9aa92b3ee\") {\n",
       "      outputDiv = document.getElementById(\"altair-viz-6c3c456cf7554823b53b83e9aa92b3ee\");\n",
       "    }\n",
       "\n",
       "    const paths = {\n",
       "      \"vega\": \"https://cdn.jsdelivr.net/npm/vega@5?noext\",\n",
       "      \"vega-lib\": \"https://cdn.jsdelivr.net/npm/vega-lib?noext\",\n",
       "      \"vega-lite\": \"https://cdn.jsdelivr.net/npm/vega-lite@5.20.1?noext\",\n",
       "      \"vega-embed\": \"https://cdn.jsdelivr.net/npm/vega-embed@6?noext\",\n",
       "    };\n",
       "\n",
       "    function maybeLoadScript(lib, version) {\n",
       "      var key = `${lib.replace(\"-\", \"\")}_version`;\n",
       "      return (VEGA_DEBUG[key] == version) ?\n",
       "        Promise.resolve(paths[lib]) :\n",
       "        new Promise(function(resolve, reject) {\n",
       "          var s = document.createElement('script');\n",
       "          document.getElementsByTagName(\"head\")[0].appendChild(s);\n",
       "          s.async = true;\n",
       "          s.onload = () => {\n",
       "            VEGA_DEBUG[key] = version;\n",
       "            return resolve(paths[lib]);\n",
       "          };\n",
       "          s.onerror = () => reject(`Error loading script: ${paths[lib]}`);\n",
       "          s.src = paths[lib];\n",
       "        });\n",
       "    }\n",
       "\n",
       "    function showError(err) {\n",
       "      outputDiv.innerHTML = `<div class=\"error\" style=\"color:red;\">${err}</div>`;\n",
       "      throw err;\n",
       "    }\n",
       "\n",
       "    function displayChart(vegaEmbed) {\n",
       "      vegaEmbed(outputDiv, spec, embedOpt)\n",
       "        .catch(err => showError(`Javascript Error: ${err.message}<br>This usually means there's a typo in your chart specification. See the javascript console for the full traceback.`));\n",
       "    }\n",
       "\n",
       "    if(typeof define === \"function\" && define.amd) {\n",
       "      requirejs.config({paths});\n",
       "      let deps = [\"vega-embed\"];\n",
       "      require(deps, displayChart, err => showError(`Error loading script: ${err.message}`));\n",
       "    } else {\n",
       "      maybeLoadScript(\"vega\", \"5\")\n",
       "        .then(() => maybeLoadScript(\"vega-lite\", \"5.20.1\"))\n",
       "        .then(() => maybeLoadScript(\"vega-embed\", \"6\"))\n",
       "        .catch(showError)\n",
       "        .then(() => displayChart(vegaEmbed));\n",
       "    }\n",
       "  })({\"config\": {\"view\": {\"continuousWidth\": 300, \"continuousHeight\": 300}}, \"data\": {\"name\": \"data-c818e563934a6da66f248eaa240fe25e\"}, \"mark\": {\"type\": \"line\", \"point\": true}, \"encoding\": {\"tooltip\": [{\"field\": \"Year\", \"type\": \"quantitative\"}, {\"field\": \"Total Arrivals\", \"type\": \"quantitative\"}], \"x\": {\"field\": \"Year\", \"title\": \"Year\", \"type\": \"ordinal\"}, \"y\": {\"field\": \"Total Arrivals\", \"title\": \"Total Number of Arrivals\", \"type\": \"quantitative\"}}, \"title\": \"Total International Tourist Arrivals to India (2017-2021)\", \"$schema\": \"https://vega.github.io/schema/vega-lite/v5.20.1.json\", \"datasets\": {\"data-c818e563934a6da66f248eaa240fe25e\": [{\"Year\": 2017, \"Total Arrivals\": 10035803.0}, {\"Year\": 2018, \"Total Arrivals\": 10557976.0}, {\"Year\": 2019, \"Total Arrivals\": 10930355.0}, {\"Year\": 2020, \"Total Arrivals\": 2744766.0}, {\"Year\": 2021, \"Total Arrivals\": 1527114.0}]}}, {\"mode\": \"vega-lite\"});\n",
       "</script>"
      ],
      "text/plain": [
       "alt.Chart(...)"
      ]
     },
     "execution_count": 18,
     "metadata": {},
     "output_type": "execute_result"
    }
   ],
   "source": [
    "\n",
    "overall_arrivals_trend = df_cleaned[df_cleaned['Region'] == 'Grand Total'][\n",
    "    ['Number of Arrivals-2017', 'Number of Arrivals-2018', 'Number of Arrivals-2019', 'Number of Arrivals-2020', 'Number of Arrivals-2021']\n",
    "]\n",
    "\n",
    "overall_arrivals_transposed = overall_arrivals_trend.T.reset_index()\n",
    "overall_arrivals_transposed.columns = ['Year', 'Total Arrivals']\n",
    "overall_arrivals_transposed['Year'] = overall_arrivals_transposed['Year'].str.replace('Number of Arrivals-', '')\n",
    "overall_arrivals_transposed['Year'] = overall_arrivals_transposed['Year'].astype(int) # Convert year to integer\n",
    "\n",
    "print(\"Overall Tourist Arrivals Trend (2017-2021):\")\n",
    "print(overall_arrivals_transposed.to_markdown(index=False, numalign=\"left\", stralign=\"left\"))\n",
    "\n",
    "chart_overall_trend = alt.Chart(overall_arrivals_transposed).mark_line(point=True).encode(\n",
    "    x=alt.X('Year:O', title='Year'), # :O means ordinal, ensures years are treated as discrete categories for labels\n",
    "    y=alt.Y('Total Arrivals', title='Total Number of Arrivals'),\n",
    "    tooltip=['Year', 'Total Arrivals']\n",
    ").properties(\n",
    "    title='Total International Tourist Arrivals to India (2017-2021)'\n",
    ")\n",
    "\n",
    "chart_overall_trend.save('overall_arrivals_trend.html') # Save as HTML\n",
    "chart_overall_trend "
   ]
  },
  {
   "cell_type": "code",
   "execution_count": 19,
   "id": "f1816a84",
   "metadata": {},
   "outputs": [
    {
     "name": "stdout",
     "output_type": "stream",
     "text": [
      "\n",
      "Melted Regional Arrivals (first 5 rows):\n",
      "| Region                    | Year   | Number of Arrivals   |\n",
      "|:--------------------------|:-------|:---------------------|\n",
      "| Africa                    | 2017   | 318023               |\n",
      "| Australasia               | 2017   | 386059               |\n",
      "| Central and South America | 2017   | 92067                |\n",
      "| East Asia                 | 2017   | 663295               |\n",
      "| Eastern Europe            | 2017   | 472872               |\n"
     ]
    },
    {
     "data": {
      "text/html": [
       "\n",
       "<style>\n",
       "  #altair-viz-996698cdc8fd4cf2bf9420a15703883e.vega-embed {\n",
       "    width: 100%;\n",
       "    display: flex;\n",
       "  }\n",
       "\n",
       "  #altair-viz-996698cdc8fd4cf2bf9420a15703883e.vega-embed details,\n",
       "  #altair-viz-996698cdc8fd4cf2bf9420a15703883e.vega-embed details summary {\n",
       "    position: relative;\n",
       "  }\n",
       "</style>\n",
       "<div id=\"altair-viz-996698cdc8fd4cf2bf9420a15703883e\"></div>\n",
       "<script type=\"text/javascript\">\n",
       "  var VEGA_DEBUG = (typeof VEGA_DEBUG == \"undefined\") ? {} : VEGA_DEBUG;\n",
       "  (function(spec, embedOpt){\n",
       "    let outputDiv = document.currentScript.previousElementSibling;\n",
       "    if (outputDiv.id !== \"altair-viz-996698cdc8fd4cf2bf9420a15703883e\") {\n",
       "      outputDiv = document.getElementById(\"altair-viz-996698cdc8fd4cf2bf9420a15703883e\");\n",
       "    }\n",
       "\n",
       "    const paths = {\n",
       "      \"vega\": \"https://cdn.jsdelivr.net/npm/vega@5?noext\",\n",
       "      \"vega-lib\": \"https://cdn.jsdelivr.net/npm/vega-lib?noext\",\n",
       "      \"vega-lite\": \"https://cdn.jsdelivr.net/npm/vega-lite@5.20.1?noext\",\n",
       "      \"vega-embed\": \"https://cdn.jsdelivr.net/npm/vega-embed@6?noext\",\n",
       "    };\n",
       "\n",
       "    function maybeLoadScript(lib, version) {\n",
       "      var key = `${lib.replace(\"-\", \"\")}_version`;\n",
       "      return (VEGA_DEBUG[key] == version) ?\n",
       "        Promise.resolve(paths[lib]) :\n",
       "        new Promise(function(resolve, reject) {\n",
       "          var s = document.createElement('script');\n",
       "          document.getElementsByTagName(\"head\")[0].appendChild(s);\n",
       "          s.async = true;\n",
       "          s.onload = () => {\n",
       "            VEGA_DEBUG[key] = version;\n",
       "            return resolve(paths[lib]);\n",
       "          };\n",
       "          s.onerror = () => reject(`Error loading script: ${paths[lib]}`);\n",
       "          s.src = paths[lib];\n",
       "        });\n",
       "    }\n",
       "\n",
       "    function showError(err) {\n",
       "      outputDiv.innerHTML = `<div class=\"error\" style=\"color:red;\">${err}</div>`;\n",
       "      throw err;\n",
       "    }\n",
       "\n",
       "    function displayChart(vegaEmbed) {\n",
       "      vegaEmbed(outputDiv, spec, embedOpt)\n",
       "        .catch(err => showError(`Javascript Error: ${err.message}<br>This usually means there's a typo in your chart specification. See the javascript console for the full traceback.`));\n",
       "    }\n",
       "\n",
       "    if(typeof define === \"function\" && define.amd) {\n",
       "      requirejs.config({paths});\n",
       "      let deps = [\"vega-embed\"];\n",
       "      require(deps, displayChart, err => showError(`Error loading script: ${err.message}`));\n",
       "    } else {\n",
       "      maybeLoadScript(\"vega\", \"5\")\n",
       "        .then(() => maybeLoadScript(\"vega-lite\", \"5.20.1\"))\n",
       "        .then(() => maybeLoadScript(\"vega-embed\", \"6\"))\n",
       "        .catch(showError)\n",
       "        .then(() => displayChart(vegaEmbed));\n",
       "    }\n",
       "  })({\"config\": {\"view\": {\"continuousWidth\": 300, \"continuousHeight\": 300}}, \"data\": {\"name\": \"data-1d60258c0a6493144a6352d312dd2f36\"}, \"mark\": {\"type\": \"bar\"}, \"encoding\": {\"color\": {\"field\": \"Region\", \"type\": \"nominal\"}, \"tooltip\": [{\"field\": \"Year\", \"type\": \"quantitative\"}, {\"field\": \"Region\", \"type\": \"nominal\"}, {\"field\": \"Number of Arrivals\", \"type\": \"quantitative\"}], \"x\": {\"field\": \"Year\", \"title\": \"Year\", \"type\": \"ordinal\"}, \"y\": {\"field\": \"Number of Arrivals\", \"title\": \"Total Number of Arrivals\", \"type\": \"quantitative\"}}, \"title\": \"Regional Contribution to International Tourist Arrivals\", \"$schema\": \"https://vega.github.io/schema/vega-lite/v5.20.1.json\", \"datasets\": {\"data-1d60258c0a6493144a6352d312dd2f36\": [{\"Region\": \"Africa\", \"Year\": 2017, \"Number of Arrivals\": 318023.0}, {\"Region\": \"Australasia\", \"Year\": 2017, \"Number of Arrivals\": 386059.0}, {\"Region\": \"Central and South America\", \"Year\": 2017, \"Number of Arrivals\": 92067.0}, {\"Region\": \"East Asia\", \"Year\": 2017, \"Number of Arrivals\": 663295.0}, {\"Region\": \"Eastern Europe\", \"Year\": 2017, \"Number of Arrivals\": 472872.0}, {\"Region\": \"North America\", \"Year\": 2017, \"Number of Arrivals\": 1712358.0}, {\"Region\": \"Not Classified elsewhere\", \"Year\": 2017, \"Number of Arrivals\": 23456.0}, {\"Region\": \"South Asia\", \"Year\": 2017, \"Number of Arrivals\": 2951665.0}, {\"Region\": \"South East Asia\", \"Year\": 2017, \"Number of Arrivals\": 824575.0}, {\"Region\": \"West Asia\", \"Year\": 2017, \"Number of Arrivals\": 457760.0}, {\"Region\": \"Western Europe\", \"Year\": 2017, \"Number of Arrivals\": 2133683.0}, {\"Region\": \"Africa\", \"Year\": 2018, \"Number of Arrivals\": 351198.0}, {\"Region\": \"Australasia\", \"Year\": 2018, \"Number of Arrivals\": 412628.0}, {\"Region\": \"Central and South America\", \"Year\": 2018, \"Number of Arrivals\": 101085.0}, {\"Region\": \"East Asia\", \"Year\": 2018, \"Number of Arrivals\": 724568.0}, {\"Region\": \"Eastern Europe\", \"Year\": 2018, \"Number of Arrivals\": 466049.0}, {\"Region\": \"North America\", \"Year\": 2018, \"Number of Arrivals\": 1807718.0}, {\"Region\": \"Not Classified elsewhere\", \"Year\": 2018, \"Number of Arrivals\": 10037.0}, {\"Region\": \"South Asia\", \"Year\": 2018, \"Number of Arrivals\": 3104422.0}, {\"Region\": \"South East Asia\", \"Year\": 2018, \"Number of Arrivals\": 887088.0}, {\"Region\": \"West Asia\", \"Year\": 2018, \"Number of Arrivals\": 449548.0}, {\"Region\": \"Western Europe\", \"Year\": 2018, \"Number of Arrivals\": 2243632.0}, {\"Region\": \"Africa\", \"Year\": 2019, \"Number of Arrivals\": 362308.0}, {\"Region\": \"Australasia\", \"Year\": 2019, \"Number of Arrivals\": 438939.0}, {\"Region\": \"Central and South America\", \"Year\": 2019, \"Number of Arrivals\": 98926.0}, {\"Region\": \"East Asia\", \"Year\": 2019, \"Number of Arrivals\": 782225.0}, {\"Region\": \"Eastern Europe\", \"Year\": 2019, \"Number of Arrivals\": 456481.0}, {\"Region\": \"North America\", \"Year\": 2019, \"Number of Arrivals\": 1863891.0}, {\"Region\": \"Not Classified elsewhere\", \"Year\": 2019, \"Number of Arrivals\": 10841.0}, {\"Region\": \"South Asia\", \"Year\": 2019, \"Number of Arrivals\": 3375819.0}, {\"Region\": \"South East Asia\", \"Year\": 2019, \"Number of Arrivals\": 930540.0}, {\"Region\": \"West Asia\", \"Year\": 2019, \"Number of Arrivals\": 431943.0}, {\"Region\": \"Western Europe\", \"Year\": 2019, \"Number of Arrivals\": 2178441.0}, {\"Region\": \"Africa\", \"Year\": 2020, \"Number of Arrivals\": 90296.0}, {\"Region\": \"Australasia\", \"Year\": 2020, \"Number of Arrivals\": 105047.0}, {\"Region\": \"Central and South America\", \"Year\": 2020, \"Number of Arrivals\": 26968.0}, {\"Region\": \"East Asia\", \"Year\": 2020, \"Number of Arrivals\": 130383.0}, {\"Region\": \"Eastern Europe\", \"Year\": 2020, \"Number of Arrivals\": 168145.0}, {\"Region\": \"North America\", \"Year\": 2020, \"Number of Arrivals\": 516960.0}, {\"Region\": \"Not Classified elsewhere\", \"Year\": 2020, \"Number of Arrivals\": 3018.0}, {\"Region\": \"South Asia\", \"Year\": 2020, \"Number of Arrivals\": 750061.0}, {\"Region\": \"South East Asia\", \"Year\": 2020, \"Number of Arrivals\": 231622.0}, {\"Region\": \"West Asia\", \"Year\": 2020, \"Number of Arrivals\": 97651.0}, {\"Region\": \"Western Europe\", \"Year\": 2020, \"Number of Arrivals\": 624615.0}, {\"Region\": \"Africa\", \"Year\": 2021, \"Number of Arrivals\": 68914.0}, {\"Region\": \"Australasia\", \"Year\": 2021, \"Number of Arrivals\": 38865.0}, {\"Region\": \"Central and South America\", \"Year\": 2021, \"Number of Arrivals\": 6798.0}, {\"Region\": \"East Asia\", \"Year\": 2021, \"Number of Arrivals\": 33762.0}, {\"Region\": \"Eastern Europe\", \"Year\": 2021, \"Number of Arrivals\": 43114.0}, {\"Region\": \"North America\", \"Year\": 2021, \"Number of Arrivals\": 510297.0}, {\"Region\": \"Not Classified elsewhere\", \"Year\": 2021, \"Number of Arrivals\": 1142.0}, {\"Region\": \"South Asia\", \"Year\": 2021, \"Number of Arrivals\": 398722.0}, {\"Region\": \"South East Asia\", \"Year\": 2021, \"Number of Arrivals\": 38474.0}, {\"Region\": \"West Asia\", \"Year\": 2021, \"Number of Arrivals\": 52174.0}, {\"Region\": \"Western Europe\", \"Year\": 2021, \"Number of Arrivals\": 334850.0}]}}, {\"mode\": \"vega-lite\"});\n",
       "</script>"
      ],
      "text/plain": [
       "alt.Chart(...)"
      ]
     },
     "execution_count": 19,
     "metadata": {},
     "output_type": "execute_result"
    }
   ],
   "source": [
    "\n",
    "regional_arrivals_melted = regional_arrivals.reset_index().melt(\n",
    "    id_vars=['Region'],\n",
    "    var_name='Year',\n",
    "    value_name='Number of Arrivals'\n",
    ")\n",
    "\n",
    "regional_arrivals_melted['Year'] = regional_arrivals_melted['Year'].str.replace('Number of Arrivals-', '')\n",
    "regional_arrivals_melted['Year'] = regional_arrivals_melted['Year'].astype(int)\n",
    "\n",
    "print(\"\\nMelted Regional Arrivals (first 5 rows):\")\n",
    "print(regional_arrivals_melted.head().to_markdown(index=False, numalign=\"left\", stralign=\"left\"))\n",
    "\n",
    "chart_regional_contribution = alt.Chart(regional_arrivals_melted).mark_bar().encode(\n",
    "    x=alt.X('Year:O', title='Year'),\n",
    "    y=alt.Y('Number of Arrivals', title='Total Number of Arrivals'),\n",
    "    color='Region', # Color bars by region\n",
    "    tooltip=['Year', 'Region', 'Number of Arrivals']\n",
    ").properties(\n",
    "    title='Regional Contribution to International Tourist Arrivals'\n",
    ")\n",
    "\n",
    "chart_regional_contribution.save('regional_contributions.html') # Save as HTML\n",
    "chart_regional_contribution"
   ]
  },
  {
   "cell_type": "code",
   "execution_count": 20,
   "id": "802c024c",
   "metadata": {},
   "outputs": [
    {
     "name": "stdout",
     "output_type": "stream",
     "text": [
      "\n",
      "Top 10 Countries/Regions by Percentage Increase in Arrivals (2021/2020):\n",
      "| Country of Nationality   | Percentage Change - 2021/20   |\n",
      "|:-------------------------|:------------------------------|\n",
      "| Maldives                 | 82.8                          |\n",
      "| Nigeria                  | 44.4                          |\n",
      "| Nepal                    | 28.7                          |\n",
      "| U. S. A                  | 9.1                           |\n",
      "| Yemen Arab Rep.          | 6                             |\n",
      "| Kenya                    | 4.6                           |\n",
      "| Portugal                 | 3.4                           |\n",
      "| Tanzania                 | -0.3                          |\n",
      "| Others                   | -0.5                          |\n",
      "| Iraq                     | -9                            |\n",
      "\n",
      "Top 10 Countries/Regions by Percentage Decrease in Arrivals (2021/2020):\n",
      "| Country of Nationality   | Percentage Change - 2021/20   |\n",
      "|:-------------------------|:------------------------------|\n",
      "| Myanmar                  | -91.5                         |\n",
      "| China                    | -91.2                         |\n",
      "| Thailand                 | -91.1                         |\n",
      "| Malaysia                 | -90.5                         |\n",
      "| Saudi Arabia             | -89.6                         |\n",
      "| Argentina                | -87.7                         |\n",
      "| Vietnam                  | -87.5                         |\n",
      "| Others                   | -84.7                         |\n",
      "| Russian Fed.             | -82.8                         |\n",
      "| Indonesia                | -82.2                         |\n"
     ]
    },
    {
     "data": {
      "text/html": [
       "\n",
       "<style>\n",
       "  #altair-viz-5791a1103c7f440fa7657761587aac12.vega-embed {\n",
       "    width: 100%;\n",
       "    display: flex;\n",
       "  }\n",
       "\n",
       "  #altair-viz-5791a1103c7f440fa7657761587aac12.vega-embed details,\n",
       "  #altair-viz-5791a1103c7f440fa7657761587aac12.vega-embed details summary {\n",
       "    position: relative;\n",
       "  }\n",
       "</style>\n",
       "<div id=\"altair-viz-5791a1103c7f440fa7657761587aac12\"></div>\n",
       "<script type=\"text/javascript\">\n",
       "  var VEGA_DEBUG = (typeof VEGA_DEBUG == \"undefined\") ? {} : VEGA_DEBUG;\n",
       "  (function(spec, embedOpt){\n",
       "    let outputDiv = document.currentScript.previousElementSibling;\n",
       "    if (outputDiv.id !== \"altair-viz-5791a1103c7f440fa7657761587aac12\") {\n",
       "      outputDiv = document.getElementById(\"altair-viz-5791a1103c7f440fa7657761587aac12\");\n",
       "    }\n",
       "\n",
       "    const paths = {\n",
       "      \"vega\": \"https://cdn.jsdelivr.net/npm/vega@5?noext\",\n",
       "      \"vega-lib\": \"https://cdn.jsdelivr.net/npm/vega-lib?noext\",\n",
       "      \"vega-lite\": \"https://cdn.jsdelivr.net/npm/vega-lite@5.20.1?noext\",\n",
       "      \"vega-embed\": \"https://cdn.jsdelivr.net/npm/vega-embed@6?noext\",\n",
       "    };\n",
       "\n",
       "    function maybeLoadScript(lib, version) {\n",
       "      var key = `${lib.replace(\"-\", \"\")}_version`;\n",
       "      return (VEGA_DEBUG[key] == version) ?\n",
       "        Promise.resolve(paths[lib]) :\n",
       "        new Promise(function(resolve, reject) {\n",
       "          var s = document.createElement('script');\n",
       "          document.getElementsByTagName(\"head\")[0].appendChild(s);\n",
       "          s.async = true;\n",
       "          s.onload = () => {\n",
       "            VEGA_DEBUG[key] = version;\n",
       "            return resolve(paths[lib]);\n",
       "          };\n",
       "          s.onerror = () => reject(`Error loading script: ${paths[lib]}`);\n",
       "          s.src = paths[lib];\n",
       "        });\n",
       "    }\n",
       "\n",
       "    function showError(err) {\n",
       "      outputDiv.innerHTML = `<div class=\"error\" style=\"color:red;\">${err}</div>`;\n",
       "      throw err;\n",
       "    }\n",
       "\n",
       "    function displayChart(vegaEmbed) {\n",
       "      vegaEmbed(outputDiv, spec, embedOpt)\n",
       "        .catch(err => showError(`Javascript Error: ${err.message}<br>This usually means there's a typo in your chart specification. See the javascript console for the full traceback.`));\n",
       "    }\n",
       "\n",
       "    if(typeof define === \"function\" && define.amd) {\n",
       "      requirejs.config({paths});\n",
       "      let deps = [\"vega-embed\"];\n",
       "      require(deps, displayChart, err => showError(`Error loading script: ${err.message}`));\n",
       "    } else {\n",
       "      maybeLoadScript(\"vega\", \"5\")\n",
       "        .then(() => maybeLoadScript(\"vega-lite\", \"5.20.1\"))\n",
       "        .then(() => maybeLoadScript(\"vega-embed\", \"6\"))\n",
       "        .catch(showError)\n",
       "        .then(() => displayChart(vegaEmbed));\n",
       "    }\n",
       "  })({\"config\": {\"view\": {\"continuousWidth\": 300, \"continuousHeight\": 300}}, \"data\": {\"name\": \"data-acc432423a0551bb28d59da8b32862c7\"}, \"mark\": {\"type\": \"bar\"}, \"encoding\": {\"color\": {\"condition\": {\"test\": \"(datum['Percentage Change - 2021/20'] > 0)\", \"value\": \"green\"}, \"value\": \"red\"}, \"tooltip\": [{\"field\": \"Country of Nationality\", \"type\": \"nominal\"}, {\"field\": \"Percentage Change - 2021/20\", \"type\": \"quantitative\"}], \"x\": {\"field\": \"Percentage Change - 2021/20\", \"title\": \"Percentage Change (2021/2020)\", \"type\": \"quantitative\"}, \"y\": {\"field\": \"Country of Nationality\", \"sort\": \"-x\", \"title\": \"Country/Region\", \"type\": \"nominal\"}}, \"title\": \"Top 5 Increases and Top 5 Decreases in Arrivals (2021/2020)\", \"$schema\": \"https://vega.github.io/schema/vega-lite/v5.20.1.json\", \"datasets\": {\"data-acc432423a0551bb28d59da8b32862c7\": [{\"Region\": \"South Asia\", \"Country of Nationality\": \"Maldives\", \"Number of Arrivals-2017\": 66150.0, \"Number of Arrivals-2018\": 62337.0, \"Number of Arrivals-2019\": 78587, \"Number of Arrivals-2020\": 14536.0, \"Number of Arrivals-2021\": 26571, \"Percentage Share  - 2018/17\": -5.8, \"Percentage Share  - 2019/18\": 26.1, \"Percentage Share  - 2020/19\": -81.5, \"Percentage Change - 2021/20\": 82.8, \"Percentage Change - 2021\": 1.74}, {\"Region\": \"Africa\", \"Country of Nationality\": \"Nigeria\", \"Number of Arrivals-2017\": 12651.0, \"Number of Arrivals-2018\": 12067.0, \"Number of Arrivals-2019\": 14033, \"Number of Arrivals-2020\": 3819.0, \"Number of Arrivals-2021\": 5516, \"Percentage Share  - 2018/17\": -4.6, \"Percentage Share  - 2019/18\": 16.3, \"Percentage Share  - 2020/19\": -72.8, \"Percentage Change - 2021/20\": 44.4, \"Percentage Change - 2021\": 0.36}, {\"Region\": \"South Asia\", \"Country of Nationality\": \"Nepal\", \"Number of Arrivals-2017\": 164018.0, \"Number of Arrivals-2018\": 174096.0, \"Number of Arrivals-2019\": 164040, \"Number of Arrivals-2020\": 40822.0, \"Number of Arrivals-2021\": 52544, \"Percentage Share  - 2018/17\": 6.1, \"Percentage Share  - 2019/18\": -5.8, \"Percentage Share  - 2020/19\": -75.1, \"Percentage Change - 2021/20\": 28.7, \"Percentage Change - 2021\": 3.44}, {\"Region\": \"North America\", \"Country of Nationality\": \"U. S. A\", \"Number of Arrivals-2017\": 1376919.0, \"Number of Arrivals-2018\": 1456678.0, \"Number of Arrivals-2019\": 1512032, \"Number of Arrivals-2020\": 394092.0, \"Number of Arrivals-2021\": 429860, \"Percentage Share  - 2018/17\": 5.8, \"Percentage Share  - 2019/18\": 3.8, \"Percentage Share  - 2020/19\": -73.9, \"Percentage Change - 2021/20\": 9.1, \"Percentage Change - 2021\": 28.15}, {\"Region\": \"West Asia\", \"Country of Nationality\": \"Yemen Arab Rep.\", \"Number of Arrivals-2017\": 21695.0, \"Number of Arrivals-2018\": 21674.0, \"Number of Arrivals-2019\": 26065, \"Number of Arrivals-2020\": 5882.0, \"Number of Arrivals-2021\": 6235, \"Percentage Share  - 2018/17\": -0.1, \"Percentage Share  - 2019/18\": 20.3, \"Percentage Share  - 2020/19\": -77.4, \"Percentage Change - 2021/20\": 6.0, \"Percentage Change - 2021\": 0.41}, {\"Region\": \"South East Asia\", \"Country of Nationality\": \"Myanmar\", \"Number of Arrivals-2017\": 56952.0, \"Number of Arrivals-2018\": 75773.0, \"Number of Arrivals-2019\": 86842, \"Number of Arrivals-2020\": 35291.0, \"Number of Arrivals-2021\": 3013, \"Percentage Share  - 2018/17\": 33.0, \"Percentage Share  - 2019/18\": 14.6, \"Percentage Share  - 2020/19\": -59.4, \"Percentage Change - 2021/20\": -91.5, \"Percentage Change - 2021\": 0.2}, {\"Region\": \"East Asia\", \"Country of Nationality\": \"China\", \"Number of Arrivals-2017\": 247235.0, \"Number of Arrivals-2018\": 281768.0, \"Number of Arrivals-2019\": 339442, \"Number of Arrivals-2020\": 39586.0, \"Number of Arrivals-2021\": 3502, \"Percentage Share  - 2018/17\": 14.0, \"Percentage Share  - 2019/18\": 20.5, \"Percentage Share  - 2020/19\": -88.3, \"Percentage Change - 2021/20\": -91.2, \"Percentage Change - 2021\": 0.23}, {\"Region\": \"South East Asia\", \"Country of Nationality\": \"Thailand\", \"Number of Arrivals-2017\": 140087.0, \"Number of Arrivals-2018\": 166293.0, \"Number of Arrivals-2019\": 169956, \"Number of Arrivals-2020\": 52626.0, \"Number of Arrivals-2021\": 4668, \"Percentage Share  - 2018/17\": 18.7, \"Percentage Share  - 2019/18\": 2.2, \"Percentage Share  - 2020/19\": -69.0, \"Percentage Change - 2021/20\": -91.1, \"Percentage Change - 2021\": 0.31}, {\"Region\": \"South East Asia\", \"Country of Nationality\": \"Malaysia\", \"Number of Arrivals-2017\": 322126.0, \"Number of Arrivals-2018\": 319172.0, \"Number of Arrivals-2019\": 334579, \"Number of Arrivals-2020\": 69897.0, \"Number of Arrivals-2021\": 6628, \"Percentage Share  - 2018/17\": -0.9, \"Percentage Share  - 2019/18\": 4.8, \"Percentage Share  - 2020/19\": -79.1, \"Percentage Change - 2021/20\": -90.5, \"Percentage Change - 2021\": 0.43}, {\"Region\": \"West Asia\", \"Country of Nationality\": \"Saudi Arabia\", \"Number of Arrivals-2017\": 52976.0, \"Number of Arrivals-2018\": 47546.0, \"Number of Arrivals-2019\": 48526, \"Number of Arrivals-2020\": 10423.0, \"Number of Arrivals-2021\": 1088, \"Percentage Share  - 2018/17\": -10.2, \"Percentage Share  - 2019/18\": 2.1, \"Percentage Share  - 2020/19\": -78.5, \"Percentage Change - 2021/20\": -89.6, \"Percentage Change - 2021\": 0.07}]}}, {\"mode\": \"vega-lite\"});\n",
       "</script>"
      ],
      "text/plain": [
       "alt.Chart(...)"
      ]
     },
     "execution_count": 20,
     "metadata": {},
     "output_type": "execute_result"
    }
   ],
   "source": [
    "\n",
    "df_change_analysis = df_cleaned[\n",
    "    (df_cleaned['Country of Nationality'] != 'Total') &\n",
    "    (df_cleaned['Region'] != 'Grand Total')\n",
    "].copy()\n",
    "top_10_increases_2021_20 = df_change_analysis.sort_values(\n",
    "    by='Percentage Change - 2021/20', ascending=False\n",
    ").head(10)\n",
    "\n",
    "bottom_10_decreases_2021_20 = df_change_analysis.sort_values(\n",
    "    by='Percentage Change - 2021/20', ascending=True\n",
    ").head(10)\n",
    "\n",
    "print(\"\\nTop 10 Countries/Regions by Percentage Increase in Arrivals (2021/2020):\")\n",
    "print(top_10_increases_2021_20[['Country of Nationality', 'Percentage Change - 2021/20']].to_markdown(index=False, numalign=\"left\", stralign=\"left\"))\n",
    "\n",
    "print(\"\\nTop 10 Countries/Regions by Percentage Decrease in Arrivals (2021/2020):\")\n",
    "print(bottom_10_decreases_2021_20[['Country of Nationality', 'Percentage Change - 2021/20']].to_markdown(index=False, numalign=\"left\", stralign=\"left\"))\n",
    "top_bottom_changes = pandas.concat([top_10_increases_2021_20.head(5), bottom_10_decreases_2021_20.head(5)])\n",
    "\n",
    "chart_percentage_change = alt.Chart(top_bottom_changes).mark_bar().encode(\n",
    "    x=alt.X('Percentage Change - 2021/20', title='Percentage Change (2021/2020)'),\n",
    "    y=alt.Y('Country of Nationality', sort='-x', title='Country/Region'),\n",
    "    color=alt.condition(\n",
    "        alt.datum['Percentage Change - 2021/20'] > 0,\n",
    "        alt.value('green'),  # Positive change in green\n",
    "        alt.value('red')     # Negative change in red\n",
    "    ),\n",
    "    tooltip=['Country of Nationality', 'Percentage Change - 2021/20']\n",
    ").properties(\n",
    "    title='Top 5 Increases and Top 5 Decreases in Arrivals (2021/2020)'\n",
    ")\n",
    "\n",
    "chart_percentage_change.save('percentage_change_2021_20.html') # Save as HTML\n",
    "chart_percentage_change "
   ]
  },
  {
   "cell_type": "code",
   "execution_count": 21,
   "id": "5a56a70c",
   "metadata": {},
   "outputs": [
    {
     "name": "stdout",
     "output_type": "stream",
     "text": [
      "First 5 rows with new 'Arrivals Tier 2019' column:\n",
      "| Country of Nationality   | Number of Arrivals-2019   | Arrivals Tier 2019   |\n",
      "|:-------------------------|:--------------------------|:---------------------|\n",
      "| Canada                   | 351859                    | High Volume          |\n",
      "| U. S. A                  | 1512032                   | High Volume          |\n",
      "| Argentina                | 12844                     | Low Volume           |\n",
      "| Brazil                   | 25422                     | Low Volume           |\n",
      "| Mexico                   | 20766                     | Low Volume           |\n",
      "\n",
      "Total Arrivals by Cohort Tier and Year:\n",
      "| Arrivals Tier 2019   | Year   | Arrivals    |\n",
      "|:---------------------|:-------|:------------|\n",
      "| High Volume          | 2019   | 1.87468e+07 |\n",
      "| High Volume          | 2020   | 4.66492e+06 |\n",
      "| High Volume          | 2021   | 2.60916e+06 |\n",
      "| Low Volume           | 2019   | 1.01556e+06 |\n",
      "| Low Volume           | 2020   | 277560      |\n",
      "| Low Volume           | 2021   | 129946      |\n",
      "| Medium Volume        | 2019   | 2.09833e+06 |\n",
      "| Medium Volume        | 2020   | 547054      |\n",
      "| Medium Volume        | 2021   | 315118      |\n"
     ]
    }
   ],
   "source": [
    "\n",
    "# Make sure cell 14 has been executed so df_cleaned is defined\n",
    "countries_only_df = df_cleaned[df_cleaned['Country of Nationality'] != 'Total'].copy()\n",
    "\n",
    "def categorize_volume(arrivals):\n",
    "    if arrivals > 200000:\n",
    "        return 'High Volume'\n",
    "    elif 50000 <= arrivals <= 200000:\n",
    "        return 'Medium Volume'\n",
    "    else:\n",
    "        return 'Low Volume'\n",
    "\n",
    "countries_only_df['Arrivals Tier 2019'] = countries_only_df['Number of Arrivals-2019'].apply(categorize_volume)\n",
    "\n",
    "print(\"First 5 rows with new 'Arrivals Tier 2019' column:\")\n",
    "print(countries_only_df[['Country of Nationality', 'Number of Arrivals-2019', 'Arrivals Tier 2019']].head().to_markdown(index=False, numalign=\"left\", stralign=\"left\"))\n",
    "\n",
    "melted_df = countries_only_df.melt(\n",
    "    id_vars=['Arrivals Tier 2019'],\n",
    "    value_vars=['Number of Arrivals-2019', 'Number of Arrivals-2020', 'Number of Arrivals-2021'],\n",
    "    var_name='Year',\n",
    "    value_name='Arrivals'\n",
    ")\n",
    "\n",
    "melted_df['Year'] = melted_df['Year'].str.replace('Number of Arrivals-', '').astype(int)\n",
    "\n",
    "cohort_performance = melted_df.groupby(['Arrivals Tier 2019', 'Year'])['Arrivals'].sum().reset_index()\n",
    "\n",
    "print(\"\\nTotal Arrivals by Cohort Tier and Year:\")\n",
    "print(cohort_performance.to_markdown(index=False, numalign=\"left\", stralign=\"left\"))"
   ]
  },
  {
   "cell_type": "code",
   "execution_count": 22,
   "id": "7b2b2212",
   "metadata": {},
   "outputs": [
    {
     "data": {
      "text/html": [
       "\n",
       "<style>\n",
       "  #altair-viz-043302747e8b45b7bb074304cd7f1ac2.vega-embed {\n",
       "    width: 100%;\n",
       "    display: flex;\n",
       "  }\n",
       "\n",
       "  #altair-viz-043302747e8b45b7bb074304cd7f1ac2.vega-embed details,\n",
       "  #altair-viz-043302747e8b45b7bb074304cd7f1ac2.vega-embed details summary {\n",
       "    position: relative;\n",
       "  }\n",
       "</style>\n",
       "<div id=\"altair-viz-043302747e8b45b7bb074304cd7f1ac2\"></div>\n",
       "<script type=\"text/javascript\">\n",
       "  var VEGA_DEBUG = (typeof VEGA_DEBUG == \"undefined\") ? {} : VEGA_DEBUG;\n",
       "  (function(spec, embedOpt){\n",
       "    let outputDiv = document.currentScript.previousElementSibling;\n",
       "    if (outputDiv.id !== \"altair-viz-043302747e8b45b7bb074304cd7f1ac2\") {\n",
       "      outputDiv = document.getElementById(\"altair-viz-043302747e8b45b7bb074304cd7f1ac2\");\n",
       "    }\n",
       "\n",
       "    const paths = {\n",
       "      \"vega\": \"https://cdn.jsdelivr.net/npm/vega@5?noext\",\n",
       "      \"vega-lib\": \"https://cdn.jsdelivr.net/npm/vega-lib?noext\",\n",
       "      \"vega-lite\": \"https://cdn.jsdelivr.net/npm/vega-lite@5.20.1?noext\",\n",
       "      \"vega-embed\": \"https://cdn.jsdelivr.net/npm/vega-embed@6?noext\",\n",
       "    };\n",
       "\n",
       "    function maybeLoadScript(lib, version) {\n",
       "      var key = `${lib.replace(\"-\", \"\")}_version`;\n",
       "      return (VEGA_DEBUG[key] == version) ?\n",
       "        Promise.resolve(paths[lib]) :\n",
       "        new Promise(function(resolve, reject) {\n",
       "          var s = document.createElement('script');\n",
       "          document.getElementsByTagName(\"head\")[0].appendChild(s);\n",
       "          s.async = true;\n",
       "          s.onload = () => {\n",
       "            VEGA_DEBUG[key] = version;\n",
       "            return resolve(paths[lib]);\n",
       "          };\n",
       "          s.onerror = () => reject(`Error loading script: ${paths[lib]}`);\n",
       "          s.src = paths[lib];\n",
       "        });\n",
       "    }\n",
       "\n",
       "    function showError(err) {\n",
       "      outputDiv.innerHTML = `<div class=\"error\" style=\"color:red;\">${err}</div>`;\n",
       "      throw err;\n",
       "    }\n",
       "\n",
       "    function displayChart(vegaEmbed) {\n",
       "      vegaEmbed(outputDiv, spec, embedOpt)\n",
       "        .catch(err => showError(`Javascript Error: ${err.message}<br>This usually means there's a typo in your chart specification. See the javascript console for the full traceback.`));\n",
       "    }\n",
       "\n",
       "    if(typeof define === \"function\" && define.amd) {\n",
       "      requirejs.config({paths});\n",
       "      let deps = [\"vega-embed\"];\n",
       "      require(deps, displayChart, err => showError(`Error loading script: ${err.message}`));\n",
       "    } else {\n",
       "      maybeLoadScript(\"vega\", \"5\")\n",
       "        .then(() => maybeLoadScript(\"vega-lite\", \"5.20.1\"))\n",
       "        .then(() => maybeLoadScript(\"vega-embed\", \"6\"))\n",
       "        .catch(showError)\n",
       "        .then(() => displayChart(vegaEmbed));\n",
       "    }\n",
       "  })({\"config\": {\"view\": {\"continuousWidth\": 300, \"continuousHeight\": 300}}, \"data\": {\"name\": \"data-5dc93ccf6bfc1b5c56d3ec5d9568350e\"}, \"mark\": {\"type\": \"line\", \"point\": true}, \"encoding\": {\"color\": {\"field\": \"Arrivals Tier 2019\", \"title\": \"2019 Arrival Volume Tier\", \"type\": \"nominal\"}, \"tooltip\": [{\"field\": \"Year\", \"type\": \"quantitative\"}, {\"field\": \"Arrivals Tier 2019\", \"type\": \"nominal\"}, {\"field\": \"Arrivals\", \"type\": \"quantitative\"}], \"x\": {\"field\": \"Year\", \"title\": \"Year\", \"type\": \"ordinal\"}, \"y\": {\"field\": \"Arrivals\", \"title\": \"Total Number of Arrivals\", \"type\": \"quantitative\"}}, \"params\": [{\"name\": \"param_1\", \"select\": {\"type\": \"interval\", \"encodings\": [\"x\", \"y\"]}, \"bind\": \"scales\"}], \"title\": \"Impact of Pandemic on Different Tourist Market Tiers\", \"$schema\": \"https://vega.github.io/schema/vega-lite/v5.20.1.json\", \"datasets\": {\"data-5dc93ccf6bfc1b5c56d3ec5d9568350e\": [{\"Arrivals Tier 2019\": \"High Volume\", \"Year\": 2019, \"Arrivals\": 18746821.0}, {\"Arrivals Tier 2019\": \"High Volume\", \"Year\": 2020, \"Arrivals\": 4664918.0}, {\"Arrivals Tier 2019\": \"High Volume\", \"Year\": 2021, \"Arrivals\": 2609162.0}, {\"Arrivals Tier 2019\": \"Low Volume\", \"Year\": 2019, \"Arrivals\": 1015555.0}, {\"Arrivals Tier 2019\": \"Low Volume\", \"Year\": 2020, \"Arrivals\": 277560.0}, {\"Arrivals Tier 2019\": \"Low Volume\", \"Year\": 2021, \"Arrivals\": 129946.0}, {\"Arrivals Tier 2019\": \"Medium Volume\", \"Year\": 2019, \"Arrivals\": 2098333.0}, {\"Arrivals Tier 2019\": \"Medium Volume\", \"Year\": 2020, \"Arrivals\": 547054.0}, {\"Arrivals Tier 2019\": \"Medium Volume\", \"Year\": 2021, \"Arrivals\": 315118.0}]}}, {\"mode\": \"vega-lite\"});\n",
       "</script>"
      ],
      "text/plain": [
       "alt.Chart(...)"
      ]
     },
     "execution_count": 22,
     "metadata": {},
     "output_type": "execute_result"
    }
   ],
   "source": [
    "\n",
    "cohort_chart = alt.Chart(cohort_performance).mark_line(point=True).encode(\n",
    "    x=alt.X('Year:O', title='Year'),\n",
    "    y=alt.Y('Arrivals', title='Total Number of Arrivals'),\n",
    "    color=alt.Color('Arrivals Tier 2019', title='2019 Arrival Volume Tier'),\n",
    "    tooltip=['Year', 'Arrivals Tier 2019', 'Arrivals']\n",
    ").properties(\n",
    "    title='Impact of Pandemic on Different Tourist Market Tiers'\n",
    ").interactive()\n",
    "\n",
    "cohort_chart.save('cohort_performance_chart.html')\n",
    "cohort_chart"
   ]
  },
  {
   "cell_type": "code",
   "execution_count": 23,
   "id": "7e96a804",
   "metadata": {},
   "outputs": [
    {
     "name": "stdout",
     "output_type": "stream",
     "text": [
      "Requirement already satisfied: prophet in /opt/anaconda3/lib/python3.13/site-packages (1.1.7)\n",
      "Requirement already satisfied: cmdstanpy>=1.0.4 in /opt/anaconda3/lib/python3.13/site-packages (from prophet) (1.2.5)\n",
      "Requirement already satisfied: numpy>=1.15.4 in /opt/anaconda3/lib/python3.13/site-packages (from prophet) (2.1.3)\n",
      "Requirement already satisfied: matplotlib>=2.0.0 in /opt/anaconda3/lib/python3.13/site-packages (from prophet) (3.10.0)\n",
      "Requirement already satisfied: pandas>=1.0.4 in /opt/anaconda3/lib/python3.13/site-packages (from prophet) (2.2.3)\n",
      "Requirement already satisfied: holidays<1,>=0.25 in /opt/anaconda3/lib/python3.13/site-packages (from prophet) (0.77)\n",
      "Requirement already satisfied: tqdm>=4.36.1 in /opt/anaconda3/lib/python3.13/site-packages (from prophet) (4.67.1)\n",
      "Requirement already satisfied: importlib_resources in /opt/anaconda3/lib/python3.13/site-packages (from prophet) (6.5.2)\n",
      "Requirement already satisfied: python-dateutil in /opt/anaconda3/lib/python3.13/site-packages (from holidays<1,>=0.25->prophet) (2.9.0.post0)\n",
      "Requirement already satisfied: stanio<2.0.0,>=0.4.0 in /opt/anaconda3/lib/python3.13/site-packages (from cmdstanpy>=1.0.4->prophet) (0.5.1)\n",
      "Requirement already satisfied: contourpy>=1.0.1 in /opt/anaconda3/lib/python3.13/site-packages (from matplotlib>=2.0.0->prophet) (1.3.1)\n",
      "Requirement already satisfied: cycler>=0.10 in /opt/anaconda3/lib/python3.13/site-packages (from matplotlib>=2.0.0->prophet) (0.11.0)\n",
      "Requirement already satisfied: fonttools>=4.22.0 in /opt/anaconda3/lib/python3.13/site-packages (from matplotlib>=2.0.0->prophet) (4.55.3)\n",
      "Requirement already satisfied: kiwisolver>=1.3.1 in /opt/anaconda3/lib/python3.13/site-packages (from matplotlib>=2.0.0->prophet) (1.4.8)\n",
      "Requirement already satisfied: packaging>=20.0 in /opt/anaconda3/lib/python3.13/site-packages (from matplotlib>=2.0.0->prophet) (24.2)\n",
      "Requirement already satisfied: pillow>=8 in /opt/anaconda3/lib/python3.13/site-packages (from matplotlib>=2.0.0->prophet) (11.1.0)\n",
      "Requirement already satisfied: pyparsing>=2.3.1 in /opt/anaconda3/lib/python3.13/site-packages (from matplotlib>=2.0.0->prophet) (3.2.0)\n",
      "Requirement already satisfied: pytz>=2020.1 in /opt/anaconda3/lib/python3.13/site-packages (from pandas>=1.0.4->prophet) (2024.1)\n",
      "Requirement already satisfied: tzdata>=2022.7 in /opt/anaconda3/lib/python3.13/site-packages (from pandas>=1.0.4->prophet) (2025.2)\n",
      "Requirement already satisfied: six>=1.5 in /opt/anaconda3/lib/python3.13/site-packages (from python-dateutil->holidays<1,>=0.25->prophet) (1.17.0)\n",
      "Note: you may need to restart the kernel to use updated packages.\n"
     ]
    },
    {
     "name": "stderr",
     "output_type": "stream",
     "text": [
      "02:47:42 - cmdstanpy - INFO - Chain [1] start processing\n",
      "02:47:42 - cmdstanpy - INFO - Chain [1] done processing\n"
     ]
    },
    {
     "name": "stdout",
     "output_type": "stream",
     "text": [
      "Data prepared for Prophet model:\n",
      "| ds                  | y           |\n",
      "|:--------------------|:------------|\n",
      "| 2017-01-01 00:00:00 | 1.00358e+07 |\n",
      "| 2018-01-01 00:00:00 | 1.0558e+07  |\n",
      "| 2019-01-01 00:00:00 | 1.09304e+07 |\n",
      "| 2020-01-01 00:00:00 | 2.74477e+06 |\n",
      "| 2021-01-01 00:00:00 | 1.52711e+06 |\n"
     ]
    },
    {
     "name": "stderr",
     "output_type": "stream",
     "text": [
      "/opt/anaconda3/lib/python3.13/site-packages/prophet/forecaster.py:1872: FutureWarning: 'Y' is deprecated and will be removed in a future version, please use 'YE' instead.\n",
      "  dates = pd.date_range(\n"
     ]
    },
    {
     "data": {
      "application/vnd.plotly.v1+json": {
       "config": {
        "plotlyServerURL": "https://plot.ly"
       },
       "data": [
        {
         "marker": {
          "color": "black",
          "size": 4
         },
         "mode": "markers",
         "name": "Actual",
         "type": "scatter",
         "x": [
          "2017-01-01T00:00:00",
          "2018-01-01T00:00:00",
          "2019-01-01T00:00:00",
          "2020-01-01T00:00:00",
          "2021-01-01T00:00:00"
         ],
         "y": [
          10035803,
          10557976,
          10930355,
          2744766,
          1527114
         ]
        },
        {
         "hoverinfo": "skip",
         "line": {
          "width": 0
         },
         "mode": "lines",
         "type": "scatter",
         "x": [
          "2017-01-01T00:00:00",
          "2018-01-01T00:00:00",
          "2019-01-01T00:00:00",
          "2020-01-01T00:00:00",
          "2021-01-01T00:00:00",
          "2021-12-31T00:00:00",
          "2022-12-31T00:00:00"
         ],
         "y": [
          9212171.637852818,
          7067972.313961922,
          4971543.011125481,
          2454274.0793321957,
          -1049563.0416038001,
          -1973006.9629475346,
          -4138252.8760234197
         ]
        },
        {
         "fill": "tonexty",
         "fillcolor": "rgba(0, 114, 178, 0.2)",
         "line": {
          "color": "#0072B2",
          "width": 2
         },
         "mode": "lines",
         "name": "Predicted",
         "type": "scatter",
         "x": [
          "2017-01-01T00:00:00",
          "2018-01-01T00:00:00",
          "2019-01-01T00:00:00",
          "2020-01-01T00:00:00",
          "2021-01-01T00:00:00",
          "2021-12-31T00:00:00",
          "2022-12-31T00:00:00"
         ],
         "y": [
          11761045.351241877,
          9665952.95963997,
          7517407.746449488,
          5314918.556727573,
          1552847.971834721,
          746592.0579524618,
          -1619777.5878267437
         ]
        },
        {
         "fill": "tonexty",
         "fillcolor": "rgba(0, 114, 178, 0.2)",
         "hoverinfo": "skip",
         "line": {
          "width": 0
         },
         "mode": "lines",
         "type": "scatter",
         "x": [
          "2017-01-01T00:00:00",
          "2018-01-01T00:00:00",
          "2019-01-01T00:00:00",
          "2020-01-01T00:00:00",
          "2021-01-01T00:00:00",
          "2021-12-31T00:00:00",
          "2022-12-31T00:00:00"
         ],
         "y": [
          14400430.959733032,
          12294899.765015576,
          10105011.002855299,
          7897378.366792841,
          4114424.4803168373,
          3509124.7055742377,
          1271625.7664447678
         ]
        }
       ],
       "layout": {
        "height": 600,
        "showlegend": false,
        "template": {
         "data": {
          "bar": [
           {
            "error_x": {
             "color": "#2a3f5f"
            },
            "error_y": {
             "color": "#2a3f5f"
            },
            "marker": {
             "line": {
              "color": "#E5ECF6",
              "width": 0.5
             },
             "pattern": {
              "fillmode": "overlay",
              "size": 10,
              "solidity": 0.2
             }
            },
            "type": "bar"
           }
          ],
          "barpolar": [
           {
            "marker": {
             "line": {
              "color": "#E5ECF6",
              "width": 0.5
             },
             "pattern": {
              "fillmode": "overlay",
              "size": 10,
              "solidity": 0.2
             }
            },
            "type": "barpolar"
           }
          ],
          "carpet": [
           {
            "aaxis": {
             "endlinecolor": "#2a3f5f",
             "gridcolor": "white",
             "linecolor": "white",
             "minorgridcolor": "white",
             "startlinecolor": "#2a3f5f"
            },
            "baxis": {
             "endlinecolor": "#2a3f5f",
             "gridcolor": "white",
             "linecolor": "white",
             "minorgridcolor": "white",
             "startlinecolor": "#2a3f5f"
            },
            "type": "carpet"
           }
          ],
          "choropleth": [
           {
            "colorbar": {
             "outlinewidth": 0,
             "ticks": ""
            },
            "type": "choropleth"
           }
          ],
          "contour": [
           {
            "colorbar": {
             "outlinewidth": 0,
             "ticks": ""
            },
            "colorscale": [
             [
              0,
              "#0d0887"
             ],
             [
              0.1111111111111111,
              "#46039f"
             ],
             [
              0.2222222222222222,
              "#7201a8"
             ],
             [
              0.3333333333333333,
              "#9c179e"
             ],
             [
              0.4444444444444444,
              "#bd3786"
             ],
             [
              0.5555555555555556,
              "#d8576b"
             ],
             [
              0.6666666666666666,
              "#ed7953"
             ],
             [
              0.7777777777777778,
              "#fb9f3a"
             ],
             [
              0.8888888888888888,
              "#fdca26"
             ],
             [
              1,
              "#f0f921"
             ]
            ],
            "type": "contour"
           }
          ],
          "contourcarpet": [
           {
            "colorbar": {
             "outlinewidth": 0,
             "ticks": ""
            },
            "type": "contourcarpet"
           }
          ],
          "heatmap": [
           {
            "colorbar": {
             "outlinewidth": 0,
             "ticks": ""
            },
            "colorscale": [
             [
              0,
              "#0d0887"
             ],
             [
              0.1111111111111111,
              "#46039f"
             ],
             [
              0.2222222222222222,
              "#7201a8"
             ],
             [
              0.3333333333333333,
              "#9c179e"
             ],
             [
              0.4444444444444444,
              "#bd3786"
             ],
             [
              0.5555555555555556,
              "#d8576b"
             ],
             [
              0.6666666666666666,
              "#ed7953"
             ],
             [
              0.7777777777777778,
              "#fb9f3a"
             ],
             [
              0.8888888888888888,
              "#fdca26"
             ],
             [
              1,
              "#f0f921"
             ]
            ],
            "type": "heatmap"
           }
          ],
          "heatmapgl": [
           {
            "colorbar": {
             "outlinewidth": 0,
             "ticks": ""
            },
            "colorscale": [
             [
              0,
              "#0d0887"
             ],
             [
              0.1111111111111111,
              "#46039f"
             ],
             [
              0.2222222222222222,
              "#7201a8"
             ],
             [
              0.3333333333333333,
              "#9c179e"
             ],
             [
              0.4444444444444444,
              "#bd3786"
             ],
             [
              0.5555555555555556,
              "#d8576b"
             ],
             [
              0.6666666666666666,
              "#ed7953"
             ],
             [
              0.7777777777777778,
              "#fb9f3a"
             ],
             [
              0.8888888888888888,
              "#fdca26"
             ],
             [
              1,
              "#f0f921"
             ]
            ],
            "type": "heatmapgl"
           }
          ],
          "histogram": [
           {
            "marker": {
             "pattern": {
              "fillmode": "overlay",
              "size": 10,
              "solidity": 0.2
             }
            },
            "type": "histogram"
           }
          ],
          "histogram2d": [
           {
            "colorbar": {
             "outlinewidth": 0,
             "ticks": ""
            },
            "colorscale": [
             [
              0,
              "#0d0887"
             ],
             [
              0.1111111111111111,
              "#46039f"
             ],
             [
              0.2222222222222222,
              "#7201a8"
             ],
             [
              0.3333333333333333,
              "#9c179e"
             ],
             [
              0.4444444444444444,
              "#bd3786"
             ],
             [
              0.5555555555555556,
              "#d8576b"
             ],
             [
              0.6666666666666666,
              "#ed7953"
             ],
             [
              0.7777777777777778,
              "#fb9f3a"
             ],
             [
              0.8888888888888888,
              "#fdca26"
             ],
             [
              1,
              "#f0f921"
             ]
            ],
            "type": "histogram2d"
           }
          ],
          "histogram2dcontour": [
           {
            "colorbar": {
             "outlinewidth": 0,
             "ticks": ""
            },
            "colorscale": [
             [
              0,
              "#0d0887"
             ],
             [
              0.1111111111111111,
              "#46039f"
             ],
             [
              0.2222222222222222,
              "#7201a8"
             ],
             [
              0.3333333333333333,
              "#9c179e"
             ],
             [
              0.4444444444444444,
              "#bd3786"
             ],
             [
              0.5555555555555556,
              "#d8576b"
             ],
             [
              0.6666666666666666,
              "#ed7953"
             ],
             [
              0.7777777777777778,
              "#fb9f3a"
             ],
             [
              0.8888888888888888,
              "#fdca26"
             ],
             [
              1,
              "#f0f921"
             ]
            ],
            "type": "histogram2dcontour"
           }
          ],
          "mesh3d": [
           {
            "colorbar": {
             "outlinewidth": 0,
             "ticks": ""
            },
            "type": "mesh3d"
           }
          ],
          "parcoords": [
           {
            "line": {
             "colorbar": {
              "outlinewidth": 0,
              "ticks": ""
             }
            },
            "type": "parcoords"
           }
          ],
          "pie": [
           {
            "automargin": true,
            "type": "pie"
           }
          ],
          "scatter": [
           {
            "fillpattern": {
             "fillmode": "overlay",
             "size": 10,
             "solidity": 0.2
            },
            "type": "scatter"
           }
          ],
          "scatter3d": [
           {
            "line": {
             "colorbar": {
              "outlinewidth": 0,
              "ticks": ""
             }
            },
            "marker": {
             "colorbar": {
              "outlinewidth": 0,
              "ticks": ""
             }
            },
            "type": "scatter3d"
           }
          ],
          "scattercarpet": [
           {
            "marker": {
             "colorbar": {
              "outlinewidth": 0,
              "ticks": ""
             }
            },
            "type": "scattercarpet"
           }
          ],
          "scattergeo": [
           {
            "marker": {
             "colorbar": {
              "outlinewidth": 0,
              "ticks": ""
             }
            },
            "type": "scattergeo"
           }
          ],
          "scattergl": [
           {
            "marker": {
             "colorbar": {
              "outlinewidth": 0,
              "ticks": ""
             }
            },
            "type": "scattergl"
           }
          ],
          "scattermapbox": [
           {
            "marker": {
             "colorbar": {
              "outlinewidth": 0,
              "ticks": ""
             }
            },
            "type": "scattermapbox"
           }
          ],
          "scatterpolar": [
           {
            "marker": {
             "colorbar": {
              "outlinewidth": 0,
              "ticks": ""
             }
            },
            "type": "scatterpolar"
           }
          ],
          "scatterpolargl": [
           {
            "marker": {
             "colorbar": {
              "outlinewidth": 0,
              "ticks": ""
             }
            },
            "type": "scatterpolargl"
           }
          ],
          "scatterternary": [
           {
            "marker": {
             "colorbar": {
              "outlinewidth": 0,
              "ticks": ""
             }
            },
            "type": "scatterternary"
           }
          ],
          "surface": [
           {
            "colorbar": {
             "outlinewidth": 0,
             "ticks": ""
            },
            "colorscale": [
             [
              0,
              "#0d0887"
             ],
             [
              0.1111111111111111,
              "#46039f"
             ],
             [
              0.2222222222222222,
              "#7201a8"
             ],
             [
              0.3333333333333333,
              "#9c179e"
             ],
             [
              0.4444444444444444,
              "#bd3786"
             ],
             [
              0.5555555555555556,
              "#d8576b"
             ],
             [
              0.6666666666666666,
              "#ed7953"
             ],
             [
              0.7777777777777778,
              "#fb9f3a"
             ],
             [
              0.8888888888888888,
              "#fdca26"
             ],
             [
              1,
              "#f0f921"
             ]
            ],
            "type": "surface"
           }
          ],
          "table": [
           {
            "cells": {
             "fill": {
              "color": "#EBF0F8"
             },
             "line": {
              "color": "white"
             }
            },
            "header": {
             "fill": {
              "color": "#C8D4E3"
             },
             "line": {
              "color": "white"
             }
            },
            "type": "table"
           }
          ]
         },
         "layout": {
          "annotationdefaults": {
           "arrowcolor": "#2a3f5f",
           "arrowhead": 0,
           "arrowwidth": 1
          },
          "autotypenumbers": "strict",
          "coloraxis": {
           "colorbar": {
            "outlinewidth": 0,
            "ticks": ""
           }
          },
          "colorscale": {
           "diverging": [
            [
             0,
             "#8e0152"
            ],
            [
             0.1,
             "#c51b7d"
            ],
            [
             0.2,
             "#de77ae"
            ],
            [
             0.3,
             "#f1b6da"
            ],
            [
             0.4,
             "#fde0ef"
            ],
            [
             0.5,
             "#f7f7f7"
            ],
            [
             0.6,
             "#e6f5d0"
            ],
            [
             0.7,
             "#b8e186"
            ],
            [
             0.8,
             "#7fbc41"
            ],
            [
             0.9,
             "#4d9221"
            ],
            [
             1,
             "#276419"
            ]
           ],
           "sequential": [
            [
             0,
             "#0d0887"
            ],
            [
             0.1111111111111111,
             "#46039f"
            ],
            [
             0.2222222222222222,
             "#7201a8"
            ],
            [
             0.3333333333333333,
             "#9c179e"
            ],
            [
             0.4444444444444444,
             "#bd3786"
            ],
            [
             0.5555555555555556,
             "#d8576b"
            ],
            [
             0.6666666666666666,
             "#ed7953"
            ],
            [
             0.7777777777777778,
             "#fb9f3a"
            ],
            [
             0.8888888888888888,
             "#fdca26"
            ],
            [
             1,
             "#f0f921"
            ]
           ],
           "sequentialminus": [
            [
             0,
             "#0d0887"
            ],
            [
             0.1111111111111111,
             "#46039f"
            ],
            [
             0.2222222222222222,
             "#7201a8"
            ],
            [
             0.3333333333333333,
             "#9c179e"
            ],
            [
             0.4444444444444444,
             "#bd3786"
            ],
            [
             0.5555555555555556,
             "#d8576b"
            ],
            [
             0.6666666666666666,
             "#ed7953"
            ],
            [
             0.7777777777777778,
             "#fb9f3a"
            ],
            [
             0.8888888888888888,
             "#fdca26"
            ],
            [
             1,
             "#f0f921"
            ]
           ]
          },
          "colorway": [
           "#636efa",
           "#EF553B",
           "#00cc96",
           "#ab63fa",
           "#FFA15A",
           "#19d3f3",
           "#FF6692",
           "#B6E880",
           "#FF97FF",
           "#FECB52"
          ],
          "font": {
           "color": "#2a3f5f"
          },
          "geo": {
           "bgcolor": "white",
           "lakecolor": "white",
           "landcolor": "#E5ECF6",
           "showlakes": true,
           "showland": true,
           "subunitcolor": "white"
          },
          "hoverlabel": {
           "align": "left"
          },
          "hovermode": "closest",
          "mapbox": {
           "style": "light"
          },
          "paper_bgcolor": "white",
          "plot_bgcolor": "#E5ECF6",
          "polar": {
           "angularaxis": {
            "gridcolor": "white",
            "linecolor": "white",
            "ticks": ""
           },
           "bgcolor": "#E5ECF6",
           "radialaxis": {
            "gridcolor": "white",
            "linecolor": "white",
            "ticks": ""
           }
          },
          "scene": {
           "xaxis": {
            "backgroundcolor": "#E5ECF6",
            "gridcolor": "white",
            "gridwidth": 2,
            "linecolor": "white",
            "showbackground": true,
            "ticks": "",
            "zerolinecolor": "white"
           },
           "yaxis": {
            "backgroundcolor": "#E5ECF6",
            "gridcolor": "white",
            "gridwidth": 2,
            "linecolor": "white",
            "showbackground": true,
            "ticks": "",
            "zerolinecolor": "white"
           },
           "zaxis": {
            "backgroundcolor": "#E5ECF6",
            "gridcolor": "white",
            "gridwidth": 2,
            "linecolor": "white",
            "showbackground": true,
            "ticks": "",
            "zerolinecolor": "white"
           }
          },
          "shapedefaults": {
           "line": {
            "color": "#2a3f5f"
           }
          },
          "ternary": {
           "aaxis": {
            "gridcolor": "white",
            "linecolor": "white",
            "ticks": ""
           },
           "baxis": {
            "gridcolor": "white",
            "linecolor": "white",
            "ticks": ""
           },
           "bgcolor": "#E5ECF6",
           "caxis": {
            "gridcolor": "white",
            "linecolor": "white",
            "ticks": ""
           }
          },
          "title": {
           "x": 0.05
          },
          "xaxis": {
           "automargin": true,
           "gridcolor": "white",
           "linecolor": "white",
           "ticks": "",
           "title": {
            "standoff": 15
           },
           "zerolinecolor": "white",
           "zerolinewidth": 2
          },
          "yaxis": {
           "automargin": true,
           "gridcolor": "white",
           "linecolor": "white",
           "ticks": "",
           "title": {
            "standoff": 15
           },
           "zerolinecolor": "white",
           "zerolinewidth": 2
          }
         }
        },
        "width": 900,
        "xaxis": {
         "rangeselector": {
          "buttons": [
           {
            "count": 7,
            "label": "1w",
            "step": "day",
            "stepmode": "backward"
           },
           {
            "count": 1,
            "label": "1m",
            "step": "month",
            "stepmode": "backward"
           },
           {
            "count": 6,
            "label": "6m",
            "step": "month",
            "stepmode": "backward"
           },
           {
            "count": 1,
            "label": "1y",
            "step": "year",
            "stepmode": "backward"
           },
           {
            "step": "all"
           }
          ]
         },
         "rangeslider": {
          "visible": true
         },
         "title": {
          "text": "ds"
         },
         "type": "date"
        },
        "yaxis": {
         "title": {
          "text": "y"
         }
        }
       }
      }
     },
     "metadata": {},
     "output_type": "display_data"
    },
    {
     "name": "stdout",
     "output_type": "stream",
     "text": [
      "\n",
      "Forecasted Tourist Arrivals:\n",
      "| ds                  | yhat         |\n",
      "|:--------------------|:-------------|\n",
      "| 2021-01-01 00:00:00 | 1.55285e+06  |\n",
      "| 2021-12-31 00:00:00 | 746592       |\n",
      "| 2022-12-31 00:00:00 | -1.61978e+06 |\n"
     ]
    }
   ],
   "source": [
    "\n",
    "%pip install prophet\n",
    "\n",
    "import pandas as pd\n",
    "from prophet import Prophet\n",
    "from prophet.plot import plot_plotly\n",
    "import plotly.express as px\n",
    "\n",
    "\n",
    "total_arrivals_df = df_cleaned[df_cleaned['Region'] == 'Grand Total'][[\n",
    "    'Number of Arrivals-2017', 'Number of Arrivals-2018', 'Number of Arrivals-2019', 'Number of Arrivals-2020', 'Number of Arrivals-2021'\n",
    "]].T.reset_index()\n",
    "\n",
    "total_arrivals_df.columns = ['ds', 'y']\n",
    "total_arrivals_df['ds'] = total_arrivals_df['ds'].str.replace('Number of Arrivals-', '').astype(int)\n",
    "total_arrivals_df['ds'] = pd.to_datetime(total_arrivals_df['ds'], format='%Y')\n",
    "\n",
    "print(\"Data prepared for Prophet model:\")\n",
    "print(total_arrivals_df.to_markdown(index=False, numalign=\"left\", stralign=\"left\"))\n",
    "\n",
    "model = Prophet()\n",
    "model.fit(total_arrivals_df)\n",
    "\n",
    "\n",
    "future = model.make_future_dataframe(periods=2, freq='Y')\n",
    "forecast = model.predict(future)\n",
    "\n",
    "# Plot the forecast\n",
    "# This will generate a nice, interactive plot in your notebook\n",
    "fig = plot_plotly(model, forecast)\n",
    "fig.show()\n",
    "\n",
    "# Print the forecast for 2022 and 2023\n",
    "print(\"\\nForecasted Tourist Arrivals:\")\n",
    "print(forecast[['ds', 'yhat']].tail(3).to_markdown(index=False, numalign=\"left\", stralign=\"left\"))"
   ]
  },
  {
   "cell_type": "code",
   "execution_count": 24,
   "id": "cb377877",
   "metadata": {},
   "outputs": [
    {
     "name": "stdout",
     "output_type": "stream",
     "text": [
      "Pearson Correlation between 2019 and 2021 arrivals: 0.99\n",
      "A high positive correlation suggests that countries with high pre-pandemic arrivals also had high post-pandemic arrivals, indicating consistent market importance.\n"
     ]
    }
   ],
   "source": [
    "\n",
    "import pandas as pd\n",
    "import numpy as np\n",
    "\n",
    "\n",
    "countries_df = df_cleaned[df_cleaned['Country of Nationality'] != 'Total'].copy()\n",
    "\n",
    "arrivals_2019 = countries_df['Number of Arrivals-2019']\n",
    "arrivals_2021 = countries_df['Number of Arrivals-2021']\n",
    "\n",
    "correlation = np.corrcoef(arrivals_2019, arrivals_2021)[0, 1]\n",
    "\n",
    "print(f\"Pearson Correlation between 2019 and 2021 arrivals: {correlation:.2f}\")\n",
    "\n",
    "if correlation > 0.8:\n",
    "    print(\"A high positive correlation suggests that countries with high pre-pandemic arrivals also had high post-pandemic arrivals, indicating consistent market importance.\")\n",
    "elif correlation > 0.5:\n",
    "    print(\"A moderate positive correlation suggests some relationship, but with shifts in market importance.\")\n",
    "else:\n",
    "    print(\"A low correlation suggests a significant shift in which countries were key tourist sources before and after the pandemic.\")"
   ]
  },
  {
   "cell_type": "code",
   "execution_count": 25,
   "id": "e27db6cf",
   "metadata": {},
   "outputs": [
    {
     "data": {
      "text/html": [
       "\n",
       "<style>\n",
       "  #altair-viz-9a9c12e977d1405f934e74e86b310a64.vega-embed {\n",
       "    width: 100%;\n",
       "    display: flex;\n",
       "  }\n",
       "\n",
       "  #altair-viz-9a9c12e977d1405f934e74e86b310a64.vega-embed details,\n",
       "  #altair-viz-9a9c12e977d1405f934e74e86b310a64.vega-embed details summary {\n",
       "    position: relative;\n",
       "  }\n",
       "</style>\n",
       "<div id=\"altair-viz-9a9c12e977d1405f934e74e86b310a64\"></div>\n",
       "<script type=\"text/javascript\">\n",
       "  var VEGA_DEBUG = (typeof VEGA_DEBUG == \"undefined\") ? {} : VEGA_DEBUG;\n",
       "  (function(spec, embedOpt){\n",
       "    let outputDiv = document.currentScript.previousElementSibling;\n",
       "    if (outputDiv.id !== \"altair-viz-9a9c12e977d1405f934e74e86b310a64\") {\n",
       "      outputDiv = document.getElementById(\"altair-viz-9a9c12e977d1405f934e74e86b310a64\");\n",
       "    }\n",
       "\n",
       "    const paths = {\n",
       "      \"vega\": \"https://cdn.jsdelivr.net/npm/vega@5?noext\",\n",
       "      \"vega-lib\": \"https://cdn.jsdelivr.net/npm/vega-lib?noext\",\n",
       "      \"vega-lite\": \"https://cdn.jsdelivr.net/npm/vega-lite@5.20.1?noext\",\n",
       "      \"vega-embed\": \"https://cdn.jsdelivr.net/npm/vega-embed@6?noext\",\n",
       "    };\n",
       "\n",
       "    function maybeLoadScript(lib, version) {\n",
       "      var key = `${lib.replace(\"-\", \"\")}_version`;\n",
       "      return (VEGA_DEBUG[key] == version) ?\n",
       "        Promise.resolve(paths[lib]) :\n",
       "        new Promise(function(resolve, reject) {\n",
       "          var s = document.createElement('script');\n",
       "          document.getElementsByTagName(\"head\")[0].appendChild(s);\n",
       "          s.async = true;\n",
       "          s.onload = () => {\n",
       "            VEGA_DEBUG[key] = version;\n",
       "            return resolve(paths[lib]);\n",
       "          };\n",
       "          s.onerror = () => reject(`Error loading script: ${paths[lib]}`);\n",
       "          s.src = paths[lib];\n",
       "        });\n",
       "    }\n",
       "\n",
       "    function showError(err) {\n",
       "      outputDiv.innerHTML = `<div class=\"error\" style=\"color:red;\">${err}</div>`;\n",
       "      throw err;\n",
       "    }\n",
       "\n",
       "    function displayChart(vegaEmbed) {\n",
       "      vegaEmbed(outputDiv, spec, embedOpt)\n",
       "        .catch(err => showError(`Javascript Error: ${err.message}<br>This usually means there's a typo in your chart specification. See the javascript console for the full traceback.`));\n",
       "    }\n",
       "\n",
       "    if(typeof define === \"function\" && define.amd) {\n",
       "      requirejs.config({paths});\n",
       "      let deps = [\"vega-embed\"];\n",
       "      require(deps, displayChart, err => showError(`Error loading script: ${err.message}`));\n",
       "    } else {\n",
       "      maybeLoadScript(\"vega\", \"5\")\n",
       "        .then(() => maybeLoadScript(\"vega-lite\", \"5.20.1\"))\n",
       "        .then(() => maybeLoadScript(\"vega-embed\", \"6\"))\n",
       "        .catch(showError)\n",
       "        .then(() => displayChart(vegaEmbed));\n",
       "    }\n",
       "  })({\"config\": {\"view\": {\"continuousWidth\": 300, \"continuousHeight\": 300}}, \"layer\": [{\"mark\": {\"type\": \"bar\"}, \"encoding\": {\"color\": {\"field\": \"Region\", \"title\": \"Region\", \"type\": \"nominal\"}, \"x\": {\"field\": \"Year\", \"title\": \"Year\", \"type\": \"ordinal\"}, \"y\": {\"field\": \"Number of Arrivals\", \"stack\": \"zero\", \"type\": \"quantitative\"}}}, {\"mark\": {\"type\": \"text\", \"align\": \"center\", \"baseline\": \"middle\", \"dy\": -15}, \"encoding\": {\"color\": {\"value\": \"black\"}, \"text\": {\"aggregate\": \"sum\", \"field\": \"Number of Arrivals\", \"format\": \",.0f\", \"type\": \"quantitative\"}, \"x\": {\"field\": \"Year\", \"title\": \"Year\", \"type\": \"ordinal\"}, \"y\": {\"aggregate\": \"sum\", \"axis\": null, \"field\": \"Number of Arrivals\", \"stack\": \"zero\", \"type\": \"quantitative\"}}}], \"data\": {\"name\": \"data-b8dca0355fe0a5425f8983caaacbcc4a\"}, \"title\": \"Regional Contributions to Tourist Arrivals (with Totals)\", \"$schema\": \"https://vega.github.io/schema/vega-lite/v5.20.1.json\", \"datasets\": {\"data-b8dca0355fe0a5425f8983caaacbcc4a\": [{\"Region\": \"Africa\", \"Year\": \"2019\", \"Number of Arrivals\": 362308.0}, {\"Region\": \"Australasia\", \"Year\": \"2019\", \"Number of Arrivals\": 438939.0}, {\"Region\": \"Central and South America\", \"Year\": \"2019\", \"Number of Arrivals\": 98926.0}, {\"Region\": \"East Asia\", \"Year\": \"2019\", \"Number of Arrivals\": 782225.0}, {\"Region\": \"Eastern Europe\", \"Year\": \"2019\", \"Number of Arrivals\": 456481.0}, {\"Region\": \"North America\", \"Year\": \"2019\", \"Number of Arrivals\": 1863891.0}, {\"Region\": \"Not Classified elsewhere\", \"Year\": \"2019\", \"Number of Arrivals\": 10841.0}, {\"Region\": \"South Asia\", \"Year\": \"2019\", \"Number of Arrivals\": 3375819.0}, {\"Region\": \"South East Asia\", \"Year\": \"2019\", \"Number of Arrivals\": 930540.0}, {\"Region\": \"West Asia\", \"Year\": \"2019\", \"Number of Arrivals\": 431943.0}, {\"Region\": \"Western Europe\", \"Year\": \"2019\", \"Number of Arrivals\": 2178441.0}, {\"Region\": \"Africa\", \"Year\": \"2020\", \"Number of Arrivals\": 90296.0}, {\"Region\": \"Australasia\", \"Year\": \"2020\", \"Number of Arrivals\": 105047.0}, {\"Region\": \"Central and South America\", \"Year\": \"2020\", \"Number of Arrivals\": 26968.0}, {\"Region\": \"East Asia\", \"Year\": \"2020\", \"Number of Arrivals\": 130383.0}, {\"Region\": \"Eastern Europe\", \"Year\": \"2020\", \"Number of Arrivals\": 168145.0}, {\"Region\": \"North America\", \"Year\": \"2020\", \"Number of Arrivals\": 516960.0}, {\"Region\": \"Not Classified elsewhere\", \"Year\": \"2020\", \"Number of Arrivals\": 3018.0}, {\"Region\": \"South Asia\", \"Year\": \"2020\", \"Number of Arrivals\": 750061.0}, {\"Region\": \"South East Asia\", \"Year\": \"2020\", \"Number of Arrivals\": 231622.0}, {\"Region\": \"West Asia\", \"Year\": \"2020\", \"Number of Arrivals\": 97651.0}, {\"Region\": \"Western Europe\", \"Year\": \"2020\", \"Number of Arrivals\": 624615.0}, {\"Region\": \"Africa\", \"Year\": \"2021\", \"Number of Arrivals\": 68914.0}, {\"Region\": \"Australasia\", \"Year\": \"2021\", \"Number of Arrivals\": 38865.0}, {\"Region\": \"Central and South America\", \"Year\": \"2021\", \"Number of Arrivals\": 6798.0}, {\"Region\": \"East Asia\", \"Year\": \"2021\", \"Number of Arrivals\": 33762.0}, {\"Region\": \"Eastern Europe\", \"Year\": \"2021\", \"Number of Arrivals\": 43114.0}, {\"Region\": \"North America\", \"Year\": \"2021\", \"Number of Arrivals\": 510297.0}, {\"Region\": \"Not Classified elsewhere\", \"Year\": \"2021\", \"Number of Arrivals\": 1142.0}, {\"Region\": \"South Asia\", \"Year\": \"2021\", \"Number of Arrivals\": 398722.0}, {\"Region\": \"South East Asia\", \"Year\": \"2021\", \"Number of Arrivals\": 38474.0}, {\"Region\": \"West Asia\", \"Year\": \"2021\", \"Number of Arrivals\": 52174.0}, {\"Region\": \"Western Europe\", \"Year\": \"2021\", \"Number of Arrivals\": 334850.0}]}}, {\"mode\": \"vega-lite\"});\n",
       "</script>"
      ],
      "text/plain": [
       "alt.LayerChart(...)"
      ]
     },
     "execution_count": 25,
     "metadata": {},
     "output_type": "execute_result"
    }
   ],
   "source": [
    "\n",
    "import pandas as pd\n",
    "import altair as alt\n",
    "\n",
    "df_filtered_for_analysis = df_cleaned[\n",
    "    (df_cleaned['Country of Nationality'] != 'Total') &\n",
    "    (df_cleaned['Region'] != 'Grand Total')\n",
    "]\n",
    "\n",
    "regional_arrivals_melted = df_filtered_for_analysis.groupby('Region')[[\n",
    "    'Number of Arrivals-2019', 'Number of Arrivals-2020', 'Number of Arrivals-2021'\n",
    "]].sum().reset_index().melt(\n",
    "    id_vars='Region',\n",
    "    var_name='Year',\n",
    "    value_name='Number of Arrivals'\n",
    ")\n",
    "\n",
    "regional_arrivals_melted['Year'] = regional_arrivals_melted['Year'].str.replace('Number of Arrivals-', '')\n",
    "\n",
    "base = alt.Chart(regional_arrivals_melted).encode(\n",
    "    x=alt.X('Year:O', title='Year'),\n",
    "    color=alt.Color('Region', title='Region')\n",
    ")\n",
    "\n",
    "bars = base.mark_bar().encode(\n",
    "    y=alt.Y('Number of Arrivals', stack='zero')\n",
    ")\n",
    "\n",
    "text = base.mark_text(\n",
    "    align='center',\n",
    "    baseline='middle',\n",
    "    dy=-15\n",
    ").encode(\n",
    "    y=alt.Y('sum(Number of Arrivals)', stack='zero', axis=None),\n",
    "    text=alt.Text('sum(Number of Arrivals)', format=',.0f'),\n",
    "    color=alt.value('black') \n",
    ")\n",
    "\n",
    "chart_with_totals = (bars + text).properties(\n",
    "    title='Regional Contributions to Tourist Arrivals (with Totals)'\n",
    ")\n",
    "\n",
    "chart_with_totals.save('annotated_stacked_bar_chart.html')\n",
    "chart_with_totals"
   ]
  },
  {
   "cell_type": "code",
   "execution_count": 26,
   "id": "98f28891",
   "metadata": {},
   "outputs": [
    {
     "name": "stdout",
     "output_type": "stream",
     "text": [
      "Your cleaned data has been saved to 'cleaned_tourism_data.csv'.\n"
     ]
    }
   ],
   "source": [
    "\n",
    "df_cleaned.to_csv('cleaned_tourism_data.csv', index=False)\n",
    "\n",
    "print(\"Your cleaned data has been saved to 'cleaned_tourism_data.csv'.\")"
   ]
  },
  {
   "cell_type": "code",
   "execution_count": 28,
   "id": "936a387f",
   "metadata": {},
   "outputs": [
    {
     "name": "stdout",
     "output_type": "stream",
     "text": [
      "Model Performance:\n",
      "Mean Squared Error (MSE): 126092787.27\n",
      "R-squared (R2) score: 0.71\n"
     ]
    },
    {
     "data": {
      "image/png": "[encoded data removed]",
      "text/plain": [
       "<Figure size 1000x600 with 1 Axes>"
      ]
     },
     "metadata": {},
     "output_type": "display_data"
    }
   ],
   "source": [
    "import pandas as pd\n",
    "from sklearn.model_selection import train_test_split\n",
    "from sklearn.linear_model import LinearRegression\n",
    "from sklearn.metrics import mean_squared_error, r2_score\n",
    "import numpy as np\n",
    "import matplotlib.pyplot as plt\n",
    "\n",
    "try:\n",
    "    df_cleaned = pd.read_csv('cleaned_tourism_data.csv')\n",
    "except FileNotFoundError:\n",
    "    print(\"The file 'cleaned_tourism_data.csv' was not found. Please ensure it has been created.\")\n",
    "    \n",
    "\n",
    "df_model = df_cleaned[df_cleaned['Country of Nationality'] != 'Total'].copy()\n",
    "\n",
    "\n",
    "X = df_model[['Number of Arrivals-2019']]\n",
    "\n",
    "y = df_model['Number of Arrivals-2021']\n",
    "\n",
    "X_train, X_test, y_train, y_test = train_test_split(X, y, test_size=0.2, random_state=42)\n",
    "\n",
    "model = LinearRegression()\n",
    "model.fit(X_train, y_train)\n",
    "\n",
    "y_pred = model.predict(X_test)\n",
    "\n",
    "print(\"Model Performance:\")\n",
    "print(f\"Mean Squared Error (MSE): {mean_squared_error(y_test, y_pred):.2f}\")\n",
    "print(f\"R-squared (R2) score: {r2_score(y_test, y_pred):.2f}\")\n",
    "\n",
    "plt.figure(figsize=(10, 6))\n",
    "plt.scatter(X_test, y_test, color='blue', label='Actual Arrivals')\n",
    "plt.plot(X_test, y_pred, color='red', linewidth=2, label='Predicted Arrivals')\n",
    "plt.title('Linear Regression Model: 2019 vs 2021 Arrivals')\n",
    "plt.xlabel('Number of Arrivals-2019')\n",
    "plt.ylabel('Number of Arrivals-2021')\n",
    "plt.legend()\n",
    "plt.grid(True)\n",
    "plt.savefig('linear_regression_predictions.png')"
   ]
  },
  {
   "cell_type": "code",
   "execution_count": 29,
   "id": "58985395",
   "metadata": {},
   "outputs": [
    {
     "data": {
      "image/png": "[encoded data removed]",
      "text/plain": [
       "<Figure size 1200x800 with 1 Axes>"
      ]
     },
     "metadata": {},
     "output_type": "display_data"
    }
   ],
   "source": [
    "import pandas as pd\n",
    "import seaborn as sns\n",
    "import matplotlib.pyplot as plt\n",
    "\n",
    "try:\n",
    "    df_cleaned = pd.read_csv('cleaned_tourism_data.csv')\n",
    "except FileNotFoundError:\n",
    "    print(\"The file 'cleaned_tourism_data.csv' was not found. Please ensure it has been created.\")\n",
    "\n",
    "df_plot = df_cleaned[df_cleaned['Country of Nationality'] != 'Total'].copy()\n",
    "\n",
    "plt.figure(figsize=(12, 8))\n",
    "sns.regplot(x='Number of Arrivals-2019', y='Number of Arrivals-2021', data=df_plot)\n",
    "\n",
    "plt.title('Relationship Between 2019 and 2021 Tourist Arrivals', fontsize=16)\n",
    "plt.xlabel('Number of Arrivals in 2019 (Pre-Pandemic)', fontsize=12)\n",
    "plt.ylabel('Number of Arrivals in 2021 (Post-Pandemic)', fontsize=12)\n",
    "\n",
    "usa_row = df_plot[df_plot['Country of Nationality'] == 'U. S. A']\n",
    "bangladesh_row = df_plot[df_plot['Country of Nationality'] == 'Bangladesh']\n",
    "\n",
    "plt.annotate('U.S.A.', xy=(usa_row['Number of Arrivals-2019'].iloc[0], usa_row['Number of Arrivals-2021'].iloc[0]),\n",
    "             xytext=(usa_row['Number of Arrivals-2019'].iloc[0] + 50000, usa_row['Number of Arrivals-2021'].iloc[0] + 50000),\n",
    "             arrowprops=dict(facecolor='black', shrink=0.05), fontsize=10)\n",
    "\n",
    "plt.annotate('Bangladesh', xy=(bangladesh_row['Number of Arrivals-2019'].iloc[0], bangladesh_row['Number of Arrivals-2021'].iloc[0]),\n",
    "             xytext=(bangladesh_row['Number of Arrivals-2019'].iloc[0] + 50000, bangladesh_row['Number of Arrivals-2021'].iloc[0] - 50000),\n",
    "             arrowprops=dict(facecolor='black', shrink=0.05), fontsize=10)\n",
    "\n",
    "\n",
    "plt.grid(True)\n",
    "plt.tight_layout()\n",
    "plt.savefig('seaborn_scatter_plot.png')\n",
    "plt.show()"
   ]
  }
 ],
 "metadata": {
  "kernelspec": {
   "display_name": "base",
   "language": "python",
   "name": "python3"
  },
  "language_info": {
   "codemirror_mode": {
    "name": "ipython",
    "version": 3
   },
   "file_extension": ".py",
   "mimetype": "text/x-python",
   "name": "python",
   "nbconvert_exporter": "python",
   "pygments_lexer": "ipython3",
   "version": "3.13.5"
  }
 },
 "nbformat": 4,
 "nbformat_minor": 5
}
